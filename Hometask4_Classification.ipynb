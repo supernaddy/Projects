{
 "cells": [
  {
   "cell_type": "markdown",
   "id": "4d99de59",
   "metadata": {},
   "source": [
    "# Домашнее задание №4. \n",
    "\n",
    "*Выполнила: Книс Надежда*"
   ]
  },
  {
   "cell_type": "markdown",
   "id": "fc7c761f",
   "metadata": {},
   "source": [
    "### Предварительная очистка данных от ненужных переменных"
   ]
  },
  {
   "cell_type": "code",
   "execution_count": 7,
   "id": "8cbbd237",
   "metadata": {},
   "outputs": [],
   "source": [
    "import pandas as pd\n",
    "df = pd.read_csv('dataset.csv')"
   ]
  },
  {
   "cell_type": "code",
   "execution_count": 8,
   "id": "89a793d9",
   "metadata": {},
   "outputs": [],
   "source": [
    "df.drop(['enrollee_id','city_development_index','enrolled_university', \n",
    "         'company_size', 'company_type', 'training_hours'], axis = 1, inplace=True)"
   ]
  },
  {
   "cell_type": "code",
   "execution_count": 9,
   "id": "94462d68",
   "metadata": {},
   "outputs": [
    {
     "data": {
      "text/html": [
       "<div>\n",
       "<style scoped>\n",
       "    .dataframe tbody tr th:only-of-type {\n",
       "        vertical-align: middle;\n",
       "    }\n",
       "\n",
       "    .dataframe tbody tr th {\n",
       "        vertical-align: top;\n",
       "    }\n",
       "\n",
       "    .dataframe thead th {\n",
       "        text-align: right;\n",
       "    }\n",
       "</style>\n",
       "<table border=\"1\" class=\"dataframe\">\n",
       "  <thead>\n",
       "    <tr style=\"text-align: right;\">\n",
       "      <th></th>\n",
       "      <th>city</th>\n",
       "      <th>gender</th>\n",
       "      <th>relevent_experience</th>\n",
       "      <th>education_level</th>\n",
       "      <th>major_discipline</th>\n",
       "      <th>experience</th>\n",
       "      <th>last_new_job</th>\n",
       "      <th>target</th>\n",
       "    </tr>\n",
       "  </thead>\n",
       "  <tbody>\n",
       "    <tr>\n",
       "      <th>0</th>\n",
       "      <td>city_103</td>\n",
       "      <td>Male</td>\n",
       "      <td>Has relevent experience</td>\n",
       "      <td>Graduate</td>\n",
       "      <td>STEM</td>\n",
       "      <td>&gt;20</td>\n",
       "      <td>1</td>\n",
       "      <td>1.0</td>\n",
       "    </tr>\n",
       "    <tr>\n",
       "      <th>1</th>\n",
       "      <td>city_40</td>\n",
       "      <td>Male</td>\n",
       "      <td>No relevent experience</td>\n",
       "      <td>Graduate</td>\n",
       "      <td>STEM</td>\n",
       "      <td>15</td>\n",
       "      <td>&gt;4</td>\n",
       "      <td>0.0</td>\n",
       "    </tr>\n",
       "    <tr>\n",
       "      <th>2</th>\n",
       "      <td>city_21</td>\n",
       "      <td>NaN</td>\n",
       "      <td>No relevent experience</td>\n",
       "      <td>Graduate</td>\n",
       "      <td>STEM</td>\n",
       "      <td>5</td>\n",
       "      <td>never</td>\n",
       "      <td>0.0</td>\n",
       "    </tr>\n",
       "    <tr>\n",
       "      <th>3</th>\n",
       "      <td>city_115</td>\n",
       "      <td>NaN</td>\n",
       "      <td>No relevent experience</td>\n",
       "      <td>Graduate</td>\n",
       "      <td>Business Degree</td>\n",
       "      <td>&lt;1</td>\n",
       "      <td>never</td>\n",
       "      <td>1.0</td>\n",
       "    </tr>\n",
       "    <tr>\n",
       "      <th>4</th>\n",
       "      <td>city_162</td>\n",
       "      <td>Male</td>\n",
       "      <td>Has relevent experience</td>\n",
       "      <td>Masters</td>\n",
       "      <td>STEM</td>\n",
       "      <td>&gt;20</td>\n",
       "      <td>4</td>\n",
       "      <td>0.0</td>\n",
       "    </tr>\n",
       "    <tr>\n",
       "      <th>...</th>\n",
       "      <td>...</td>\n",
       "      <td>...</td>\n",
       "      <td>...</td>\n",
       "      <td>...</td>\n",
       "      <td>...</td>\n",
       "      <td>...</td>\n",
       "      <td>...</td>\n",
       "      <td>...</td>\n",
       "    </tr>\n",
       "    <tr>\n",
       "      <th>19153</th>\n",
       "      <td>city_173</td>\n",
       "      <td>Male</td>\n",
       "      <td>No relevent experience</td>\n",
       "      <td>Graduate</td>\n",
       "      <td>Humanities</td>\n",
       "      <td>14</td>\n",
       "      <td>1</td>\n",
       "      <td>1.0</td>\n",
       "    </tr>\n",
       "    <tr>\n",
       "      <th>19154</th>\n",
       "      <td>city_103</td>\n",
       "      <td>Male</td>\n",
       "      <td>Has relevent experience</td>\n",
       "      <td>Graduate</td>\n",
       "      <td>STEM</td>\n",
       "      <td>14</td>\n",
       "      <td>4</td>\n",
       "      <td>1.0</td>\n",
       "    </tr>\n",
       "    <tr>\n",
       "      <th>19155</th>\n",
       "      <td>city_103</td>\n",
       "      <td>Male</td>\n",
       "      <td>Has relevent experience</td>\n",
       "      <td>Graduate</td>\n",
       "      <td>STEM</td>\n",
       "      <td>&gt;20</td>\n",
       "      <td>4</td>\n",
       "      <td>0.0</td>\n",
       "    </tr>\n",
       "    <tr>\n",
       "      <th>19156</th>\n",
       "      <td>city_65</td>\n",
       "      <td>Male</td>\n",
       "      <td>Has relevent experience</td>\n",
       "      <td>High School</td>\n",
       "      <td>NaN</td>\n",
       "      <td>&lt;1</td>\n",
       "      <td>2</td>\n",
       "      <td>0.0</td>\n",
       "    </tr>\n",
       "    <tr>\n",
       "      <th>19157</th>\n",
       "      <td>city_67</td>\n",
       "      <td>NaN</td>\n",
       "      <td>No relevent experience</td>\n",
       "      <td>Primary School</td>\n",
       "      <td>NaN</td>\n",
       "      <td>2</td>\n",
       "      <td>1</td>\n",
       "      <td>0.0</td>\n",
       "    </tr>\n",
       "  </tbody>\n",
       "</table>\n",
       "<p>19158 rows × 8 columns</p>\n",
       "</div>"
      ],
      "text/plain": [
       "           city gender      relevent_experience education_level  \\\n",
       "0      city_103   Male  Has relevent experience        Graduate   \n",
       "1       city_40   Male   No relevent experience        Graduate   \n",
       "2       city_21    NaN   No relevent experience        Graduate   \n",
       "3      city_115    NaN   No relevent experience        Graduate   \n",
       "4      city_162   Male  Has relevent experience         Masters   \n",
       "...         ...    ...                      ...             ...   \n",
       "19153  city_173   Male   No relevent experience        Graduate   \n",
       "19154  city_103   Male  Has relevent experience        Graduate   \n",
       "19155  city_103   Male  Has relevent experience        Graduate   \n",
       "19156   city_65   Male  Has relevent experience     High School   \n",
       "19157   city_67    NaN   No relevent experience  Primary School   \n",
       "\n",
       "      major_discipline experience last_new_job  target  \n",
       "0                 STEM        >20            1     1.0  \n",
       "1                 STEM         15           >4     0.0  \n",
       "2                 STEM          5        never     0.0  \n",
       "3      Business Degree         <1        never     1.0  \n",
       "4                 STEM        >20            4     0.0  \n",
       "...                ...        ...          ...     ...  \n",
       "19153       Humanities         14            1     1.0  \n",
       "19154             STEM         14            4     1.0  \n",
       "19155             STEM        >20            4     0.0  \n",
       "19156              NaN         <1            2     0.0  \n",
       "19157              NaN          2            1     0.0  \n",
       "\n",
       "[19158 rows x 8 columns]"
      ]
     },
     "execution_count": 9,
     "metadata": {},
     "output_type": "execute_result"
    }
   ],
   "source": [
    "df"
   ]
  },
  {
   "cell_type": "markdown",
   "id": "72791271",
   "metadata": {},
   "source": [
    "## Задание 1."
   ]
  },
  {
   "cell_type": "markdown",
   "id": "5734ac57",
   "metadata": {},
   "source": [
    "**Приведите свои рассуждения о связи между зависимой переменной (target) и\n",
    "предложенными социально-экономическими характеристиками из таблицы.**"
   ]
  },
  {
   "cell_type": "markdown",
   "id": "26c2aac7",
   "metadata": {},
   "source": [
    "**1)** target и relevant_experience: здесь может два разных случая причинно-следственной связи. Во-первых, чем больше релевантный опыт работника, тем больше у него возможностей на рынке труда устроиться на желаемую работу, тем больше вероятность, что он захочет попробовать новую работу. Во-вторых, чем больше именно релевантный опыт работника, тем, возможно, он уже больше познал различных компаний и остался в той, в которой ему хочется работать на долгое время вперед. То есть, без анализа данных тяжело говорить об однозначном направлении влияния релевантного опыта работы на желание сменить работу.  \n",
    "**2)** target и educational_level: думаю, что здесь такая же ситуация, как в первом пункте. Может быть, что более высокий уровень образования дает больше \"маневренности\" на рынке труда (положительное влияние), а может, более высокий уровень образования каким-то образом гарантирует большую  стабильность и выдержку работника, соответственно, он дольше продержится на определенной работе и меньше шансов, что он уйдет (отрицательное влияние).   \n",
    "**3)** target и last_new_job: здесь также невозможно без анализа данных сказать, каково будет направление влияния разницы в годах между текущей и предыдущей работой. Первый возможный случай - работник очень давно не менял работу, поэтому возрастает вероятность того, что он захочет ее уже поменять => положительная зависимость. Второй возможный случай - работник также давно не менял работу, что в принципе может сигнализировать о его несклонности к смене места работы => отрицательная зависимость.   \n",
    "  \n",
    "Зависимость переменной target от переменных city, gender, major_discipline, experience тяжело предсказать без анализа данных, так как   \n",
    "**1)** мы не имеем представления об условиях конкретных городов в таблице (может какие-то города имеют более привлекательные места работы, чем другие, что будет уменьшать желание в таких городах сменить работу, и увеличивать это желание в городах с менее привлекательными рабочими местами)  \n",
    "**2)** про зависимость такого желания от пола тоже сложно сказать, неясно, кто больше склонен к смене работе\n",
    "**3)** зависимость желания сменить работу зависит от основной дисциплины в университете в той степени, насколько в разных сферах и индустриях в принципе выше текучка кадров, а этого мы не знаем  \n",
    "**4)** про зависимость таргета от опыта так же тяжело сказать, ведь этот опыт может включать в себя как релевантный, так и нерелевантный, в частности про релевантный опыт работы я сказала выше "
   ]
  },
  {
   "cell_type": "markdown",
   "id": "0142ceee",
   "metadata": {},
   "source": [
    "## Задание 2."
   ]
  },
  {
   "cell_type": "markdown",
   "id": "871e852f",
   "metadata": {},
   "source": [
    "**Уберите все пропуски в данных. Запишите команду.\n",
    "Все дальнейшие действия произведите на выборке, очищенной от пропущенных\n",
    "значений.\n",
    "Сколько наблюдений осталось в выборке?**"
   ]
  },
  {
   "cell_type": "code",
   "execution_count": 10,
   "id": "7c0b3227",
   "metadata": {},
   "outputs": [],
   "source": [
    "df.dropna(inplace=True)"
   ]
  },
  {
   "cell_type": "code",
   "execution_count": 11,
   "id": "39d6a618",
   "metadata": {
    "scrolled": true
   },
   "outputs": [
    {
     "data": {
      "text/html": [
       "<div>\n",
       "<style scoped>\n",
       "    .dataframe tbody tr th:only-of-type {\n",
       "        vertical-align: middle;\n",
       "    }\n",
       "\n",
       "    .dataframe tbody tr th {\n",
       "        vertical-align: top;\n",
       "    }\n",
       "\n",
       "    .dataframe thead th {\n",
       "        text-align: right;\n",
       "    }\n",
       "</style>\n",
       "<table border=\"1\" class=\"dataframe\">\n",
       "  <thead>\n",
       "    <tr style=\"text-align: right;\">\n",
       "      <th></th>\n",
       "      <th>city</th>\n",
       "      <th>gender</th>\n",
       "      <th>relevent_experience</th>\n",
       "      <th>education_level</th>\n",
       "      <th>major_discipline</th>\n",
       "      <th>experience</th>\n",
       "      <th>last_new_job</th>\n",
       "      <th>target</th>\n",
       "    </tr>\n",
       "  </thead>\n",
       "  <tbody>\n",
       "    <tr>\n",
       "      <th>0</th>\n",
       "      <td>city_103</td>\n",
       "      <td>Male</td>\n",
       "      <td>Has relevent experience</td>\n",
       "      <td>Graduate</td>\n",
       "      <td>STEM</td>\n",
       "      <td>&gt;20</td>\n",
       "      <td>1</td>\n",
       "      <td>1.0</td>\n",
       "    </tr>\n",
       "    <tr>\n",
       "      <th>1</th>\n",
       "      <td>city_40</td>\n",
       "      <td>Male</td>\n",
       "      <td>No relevent experience</td>\n",
       "      <td>Graduate</td>\n",
       "      <td>STEM</td>\n",
       "      <td>15</td>\n",
       "      <td>&gt;4</td>\n",
       "      <td>0.0</td>\n",
       "    </tr>\n",
       "    <tr>\n",
       "      <th>4</th>\n",
       "      <td>city_162</td>\n",
       "      <td>Male</td>\n",
       "      <td>Has relevent experience</td>\n",
       "      <td>Masters</td>\n",
       "      <td>STEM</td>\n",
       "      <td>&gt;20</td>\n",
       "      <td>4</td>\n",
       "      <td>0.0</td>\n",
       "    </tr>\n",
       "    <tr>\n",
       "      <th>7</th>\n",
       "      <td>city_46</td>\n",
       "      <td>Male</td>\n",
       "      <td>Has relevent experience</td>\n",
       "      <td>Graduate</td>\n",
       "      <td>STEM</td>\n",
       "      <td>13</td>\n",
       "      <td>&gt;4</td>\n",
       "      <td>1.0</td>\n",
       "    </tr>\n",
       "    <tr>\n",
       "      <th>8</th>\n",
       "      <td>city_103</td>\n",
       "      <td>Male</td>\n",
       "      <td>Has relevent experience</td>\n",
       "      <td>Graduate</td>\n",
       "      <td>STEM</td>\n",
       "      <td>7</td>\n",
       "      <td>1</td>\n",
       "      <td>1.0</td>\n",
       "    </tr>\n",
       "    <tr>\n",
       "      <th>...</th>\n",
       "      <td>...</td>\n",
       "      <td>...</td>\n",
       "      <td>...</td>\n",
       "      <td>...</td>\n",
       "      <td>...</td>\n",
       "      <td>...</td>\n",
       "      <td>...</td>\n",
       "      <td>...</td>\n",
       "    </tr>\n",
       "    <tr>\n",
       "      <th>19150</th>\n",
       "      <td>city_160</td>\n",
       "      <td>Female</td>\n",
       "      <td>Has relevent experience</td>\n",
       "      <td>Graduate</td>\n",
       "      <td>STEM</td>\n",
       "      <td>10</td>\n",
       "      <td>3</td>\n",
       "      <td>0.0</td>\n",
       "    </tr>\n",
       "    <tr>\n",
       "      <th>19152</th>\n",
       "      <td>city_103</td>\n",
       "      <td>Female</td>\n",
       "      <td>Has relevent experience</td>\n",
       "      <td>Graduate</td>\n",
       "      <td>Humanities</td>\n",
       "      <td>7</td>\n",
       "      <td>1</td>\n",
       "      <td>0.0</td>\n",
       "    </tr>\n",
       "    <tr>\n",
       "      <th>19153</th>\n",
       "      <td>city_173</td>\n",
       "      <td>Male</td>\n",
       "      <td>No relevent experience</td>\n",
       "      <td>Graduate</td>\n",
       "      <td>Humanities</td>\n",
       "      <td>14</td>\n",
       "      <td>1</td>\n",
       "      <td>1.0</td>\n",
       "    </tr>\n",
       "    <tr>\n",
       "      <th>19154</th>\n",
       "      <td>city_103</td>\n",
       "      <td>Male</td>\n",
       "      <td>Has relevent experience</td>\n",
       "      <td>Graduate</td>\n",
       "      <td>STEM</td>\n",
       "      <td>14</td>\n",
       "      <td>4</td>\n",
       "      <td>1.0</td>\n",
       "    </tr>\n",
       "    <tr>\n",
       "      <th>19155</th>\n",
       "      <td>city_103</td>\n",
       "      <td>Male</td>\n",
       "      <td>Has relevent experience</td>\n",
       "      <td>Graduate</td>\n",
       "      <td>STEM</td>\n",
       "      <td>&gt;20</td>\n",
       "      <td>4</td>\n",
       "      <td>0.0</td>\n",
       "    </tr>\n",
       "  </tbody>\n",
       "</table>\n",
       "<p>12606 rows × 8 columns</p>\n",
       "</div>"
      ],
      "text/plain": [
       "           city  gender      relevent_experience education_level  \\\n",
       "0      city_103    Male  Has relevent experience        Graduate   \n",
       "1       city_40    Male   No relevent experience        Graduate   \n",
       "4      city_162    Male  Has relevent experience         Masters   \n",
       "7       city_46    Male  Has relevent experience        Graduate   \n",
       "8      city_103    Male  Has relevent experience        Graduate   \n",
       "...         ...     ...                      ...             ...   \n",
       "19150  city_160  Female  Has relevent experience        Graduate   \n",
       "19152  city_103  Female  Has relevent experience        Graduate   \n",
       "19153  city_173    Male   No relevent experience        Graduate   \n",
       "19154  city_103    Male  Has relevent experience        Graduate   \n",
       "19155  city_103    Male  Has relevent experience        Graduate   \n",
       "\n",
       "      major_discipline experience last_new_job  target  \n",
       "0                 STEM        >20            1     1.0  \n",
       "1                 STEM         15           >4     0.0  \n",
       "4                 STEM        >20            4     0.0  \n",
       "7                 STEM         13           >4     1.0  \n",
       "8                 STEM          7            1     1.0  \n",
       "...                ...        ...          ...     ...  \n",
       "19150             STEM         10            3     0.0  \n",
       "19152       Humanities          7            1     0.0  \n",
       "19153       Humanities         14            1     1.0  \n",
       "19154             STEM         14            4     1.0  \n",
       "19155             STEM        >20            4     0.0  \n",
       "\n",
       "[12606 rows x 8 columns]"
      ]
     },
     "execution_count": 11,
     "metadata": {},
     "output_type": "execute_result"
    }
   ],
   "source": [
    "df"
   ]
  },
  {
   "cell_type": "code",
   "execution_count": 13,
   "id": "42a26d51",
   "metadata": {},
   "outputs": [
    {
     "data": {
      "text/plain": [
       "12606"
      ]
     },
     "execution_count": 13,
     "metadata": {},
     "output_type": "execute_result"
    }
   ],
   "source": [
    "df.shape[0]"
   ]
  },
  {
   "cell_type": "markdown",
   "id": "2e9e0767",
   "metadata": {},
   "source": [
    "Значит, в выборке осталось 12606 наблюдений."
   ]
  },
  {
   "cell_type": "markdown",
   "id": "49bef202",
   "metadata": {},
   "source": [
    "## Задание 3."
   ]
  },
  {
   "cell_type": "markdown",
   "id": "6c261788",
   "metadata": {},
   "source": [
    "**Какая доля выборки имеет релевантный опыт работы?**"
   ]
  },
  {
   "cell_type": "code",
   "execution_count": 16,
   "id": "0f0c25a1",
   "metadata": {},
   "outputs": [
    {
     "name": "stdout",
     "output_type": "stream",
     "text": [
      "79.97778835475171\n"
     ]
    }
   ],
   "source": [
    "a = df[df['relevent_experience']=='Has relevent experience'].shape[0]\n",
    "b = df.shape[0]\n",
    "print(a/b*100)"
   ]
  },
  {
   "cell_type": "markdown",
   "id": "d56fb799",
   "metadata": {},
   "source": [
    "Значит, почти 80% работников имеет релевантный опыт работы."
   ]
  },
  {
   "cell_type": "markdown",
   "id": "74adbc2e",
   "metadata": {},
   "source": [
    "## Задание 4."
   ]
  },
  {
   "cell_type": "markdown",
   "id": "08f66167",
   "metadata": {},
   "source": [
    "**Учитывая тип переменной релевантного опыта работы, уточните чему равна 70-\n",
    "квантиль релевантного опыта работы? Проинтерпретируйте результат, если нет\n",
    "противоречий.**"
   ]
  },
  {
   "cell_type": "code",
   "execution_count": 24,
   "id": "87e25ecc",
   "metadata": {},
   "outputs": [
    {
     "data": {
      "text/plain": [
       "city                    object\n",
       "gender                  object\n",
       "relevent_experience     object\n",
       "education_level         object\n",
       "major_discipline        object\n",
       "experience              object\n",
       "last_new_job            object\n",
       "target                 float64\n",
       "dtype: object"
      ]
     },
     "execution_count": 24,
     "metadata": {},
     "output_type": "execute_result"
    }
   ],
   "source": [
    "df.dtypes"
   ]
  },
  {
   "cell_type": "markdown",
   "id": "ec7da835",
   "metadata": {},
   "source": [
    "Мы видим, что переменная релевантного опыта работы имеет тип object, \n",
    "нам нужно перевести его в числовой тип для расчета квантиля. "
   ]
  },
  {
   "cell_type": "code",
   "execution_count": 32,
   "id": "37adb716",
   "metadata": {},
   "outputs": [
    {
     "data": {
      "text/plain": [
       "1.0"
      ]
     },
     "execution_count": 32,
     "metadata": {},
     "output_type": "execute_result"
    }
   ],
   "source": [
    "from sklearn import preprocessing\n",
    "import numpy as np\n",
    "\n",
    "le = preprocessing.LabelEncoder()\n",
    "c = np.ones(len(df))                                            #заполняем столбец \"с\" полностью единичками\n",
    "df['rel_num'] = c - le.fit_transform(df['relevent_experience']) #вычитаем из него наш столбец с переменной\n",
    "d = df['rel_num'].sort_values()                                 #сортируем полученные значения для расчета квантиля\n",
    "np.percentile(d,70)                                             #рассчитываем квантиль уровня 70"
   ]
  },
  {
   "cell_type": "markdown",
   "id": "13585987",
   "metadata": {},
   "source": [
    "При переводе из object в числовую переменную мы столкнулись с тем, что под значением \"1\" у нас теперь лежит \"No relevent experience\", что немного противоречит логике бинарных переменных, поэтому я и сделала шаг с вычитанием этого столбца из \"единичного\" столбца, чтобы буквально \"перевернуть\" значения этой бинарной переменной."
   ]
  },
  {
   "cell_type": "markdown",
   "id": "9f38ba6b",
   "metadata": {},
   "source": [
    "Полученный результат можно интерпретировать так: с вероятностью 70% значения случайной величины, отвечающей за наличие релевантного опыта у кандидата, не превышают значение \"1\" или \"наличие релевантного опыта\".  \n",
    "Однако ясно, что у нас в 100% случаев значения этой переменной не превышают 1.  \n",
    "В нашем случае, переменная релевантного опыта является по своей сути категориальной переменной, принимающей одно из двух значений, а для категориальных переменных интерпретация квантилей не имеет смысла."
   ]
  },
  {
   "cell_type": "markdown",
   "id": "195f2e93",
   "metadata": {},
   "source": [
    "## Задание 5."
   ]
  },
  {
   "cell_type": "markdown",
   "id": "870ba64d",
   "metadata": {},
   "source": [
    "**Преобразуйте текстовые переменные в числовые и создайте для них новые колонки в\n",
    "используемом датафрейме. Запишите команду.**"
   ]
  },
  {
   "cell_type": "markdown",
   "id": "47dfb59b",
   "metadata": {},
   "source": [
    "Из задания 4 стало ясно, что все переменные кроме целевой (target) являются текстовыми (object), значит всех их нужно перевести в числовые переменные. Снова воспользуемся LabelEncoder()"
   ]
  },
  {
   "cell_type": "code",
   "execution_count": 33,
   "id": "bc218116",
   "metadata": {},
   "outputs": [],
   "source": [
    "df['city_num'] = le.fit_transform(df['city'])\n",
    "df['gender_num'] = le.fit_transform(df['gender'])\n",
    "df['educ_num'] = le.fit_transform(df['education_level'])\n",
    "df['major_num'] = le.fit_transform(df['major_discipline'])\n",
    "df['exp_num'] = le.fit_transform(df['experience'])\n",
    "df['last_num'] = le.fit_transform(df['last_new_job'])"
   ]
  },
  {
   "cell_type": "markdown",
   "id": "5b781838",
   "metadata": {},
   "source": [
    "## Задание 6."
   ]
  },
  {
   "cell_type": "markdown",
   "id": "2bde525a",
   "metadata": {},
   "source": [
    "**Разделите выборку на две подвыборки. 60% выборки оставьте для обучения, а 40% -\n",
    "для тестирования модели. Запишите команду. Сколько наблюдений попало в выборку для обучения, сколько в выборку для\n",
    "тестирования? (Примечание: чтобы выборка всегда разбивалась одинаково,\n",
    "зафиксируйте аргумент random_state=42)**"
   ]
  },
  {
   "cell_type": "code",
   "execution_count": 34,
   "id": "55cdcb4f",
   "metadata": {},
   "outputs": [],
   "source": [
    "from sklearn.model_selection import train_test_split"
   ]
  },
  {
   "cell_type": "code",
   "execution_count": 35,
   "id": "823dd138",
   "metadata": {},
   "outputs": [],
   "source": [
    "y = df['target']\n",
    "x = df[['rel_num', 'city_num', 'gender_num', 'educ_num', 'major_num', 'exp_num', 'last_num']]\n",
    "X_train, X_test, y_train, y_test = train_test_split(x,y, test_size=0.4, random_state=42)"
   ]
  },
  {
   "cell_type": "code",
   "execution_count": 36,
   "id": "5735e751",
   "metadata": {},
   "outputs": [
    {
     "name": "stdout",
     "output_type": "stream",
     "text": [
      "В выборку для обучения попало 7563 наблюдений, а в выборку для тестирования - 5043\n"
     ]
    }
   ],
   "source": [
    "print(f'В выборку для обучения попало {len(X_train)} наблюдений, а в выборку для тестирования - {len(X_test)}')"
   ]
  },
  {
   "cell_type": "markdown",
   "id": "832937dd",
   "metadata": {},
   "source": [
    "## Задание 7."
   ]
  },
  {
   "cell_type": "markdown",
   "id": "079ca091",
   "metadata": {},
   "source": [
    "**В чем заключается суть стандартизации переменных? Зачем она требуется при работе\n",
    "с методом к-ближайших соседей? Потребуется ли эта процедура для работы с\n",
    "текущим датафреймом? Если да, то произведите стандартизацию данных и запишите\n",
    "команду.**"
   ]
  },
  {
   "cell_type": "markdown",
   "id": "7b3b98cd",
   "metadata": {},
   "source": [
    "Суть стандартизации переменных заключается в том, чтобы привести данные к нормальному распределению, где дисперсия равна 1, а среднее значение нулю. Данный метод обработки данных необходим в ситуациях, когда переменные имеют существенно разные единицы измерения, что делает результаты построения статистических моделей менее точными. Например, в нашей таблице переменная rel_num принимает значения 0 или 1, в то время как переменная city_num может достигать значения от 20 до 162, что делает тяжело сопоставимыми данные переменные в процессе анализа и соответствующего построения модели.  \n",
    "Метод к-ближайших соседей особенно чувствителен к такому различию в размерности данных, так как это приведет к неправильному расчету расстояния до ближайшего соседа, и наша классификация будет неверна.  \n",
    "Значит, в связи с такой несоразмерностью наших данных, нам также необходимо провести стандартизацию."
   ]
  },
  {
   "cell_type": "code",
   "execution_count": 43,
   "id": "264d8d52",
   "metadata": {},
   "outputs": [],
   "source": [
    "from sklearn.preprocessing import StandardScaler\n",
    "scaler = StandardScaler()\n",
    "scaler.fit(X_train)                  #вычисляет ср. значение и стандарт. отклонение от тренировочной выборки, \n",
    "                                     #которые будут использоваться для последующего масштабирования\n",
    "X_train = scaler.transform(X_train)  #выполняет стандартизацию тренировочной выборки путем центрирования и масштабирования\n",
    "X_test = scaler.transform(X_test)    #выполняет стандартизацию тестовой выборки путем центрирования и масштабирования"
   ]
  },
  {
   "cell_type": "markdown",
   "id": "49c8a9ce",
   "metadata": {},
   "source": [
    "## Задание 8."
   ]
  },
  {
   "cell_type": "markdown",
   "id": "21148794",
   "metadata": {},
   "source": [
    "**Для решения задачи классификации используйте метод к-ближайших соседей.\n",
    "Установите первоначальное значение соседей равное 3 (k=3). Постройте\n",
    "предсказание о том, что респондент будет искать новую работу, используя весь набор\n",
    "социально-экономических характеристик из таблицы. Запишите команду.**"
   ]
  },
  {
   "cell_type": "code",
   "execution_count": 39,
   "id": "436e599e",
   "metadata": {},
   "outputs": [],
   "source": [
    "from sklearn.neighbors import KNeighborsClassifier"
   ]
  },
  {
   "cell_type": "code",
   "execution_count": 41,
   "id": "de11c0f9",
   "metadata": {},
   "outputs": [
    {
     "data": {
      "text/plain": [
       "array([0., 0., 0., ..., 0., 0., 0.])"
      ]
     },
     "execution_count": 41,
     "metadata": {},
     "output_type": "execute_result"
    }
   ],
   "source": [
    "classifier = KNeighborsClassifier(n_neighbors=3)\n",
    "classifier.fit(X_train, y_train)          #отдаем на запоминание модели нашу тренировочную выборку\n",
    "y_pred_knn = classifier.predict(X_test)   #просим модель предсказать значения таргета с использованием нашей тестовой выборки\n",
    "y_pred_knn                                #просим показать предсказанные моделью значения"
   ]
  },
  {
   "cell_type": "markdown",
   "id": "6a2525a6",
   "metadata": {},
   "source": [
    "## Задание 9."
   ]
  },
  {
   "cell_type": "markdown",
   "id": "996e83e7",
   "metadata": {},
   "source": [
    "**Рассчитайте error rate. Запишите расчетную формулу и полученные значение.\n",
    "Почему не стоит полагаться на этот параметр при оценке качества сделанного\n",
    "прогноза?**"
   ]
  },
  {
   "cell_type": "markdown",
   "id": "d11d3c4c",
   "metadata": {},
   "source": [
    "**Формула: error rate = 1 - accuracy**"
   ]
  },
  {
   "cell_type": "code",
   "execution_count": 51,
   "id": "9e241431",
   "metadata": {},
   "outputs": [
    {
     "data": {
      "text/plain": [
       "0.2536"
      ]
     },
     "execution_count": 51,
     "metadata": {},
     "output_type": "execute_result"
    }
   ],
   "source": [
    "from sklearn.metrics import accuracy_score\n",
    "\n",
    "round(1 - accuracy_score(y_test, y_pred_knn),4) #считаем accuracy score по нашим тестовому и предсказанному таргетам\n",
    "                                                #вычитаем его из единицы и округляем"
   ]
  },
  {
   "cell_type": "markdown",
   "id": "67bcb4e3",
   "metadata": {},
   "source": [
    "Модель неверно предсказывает в 25.36% случаев."
   ]
  },
  {
   "cell_type": "markdown",
   "id": "7c1ffc00",
   "metadata": {},
   "source": [
    "Однако помимо accuracy, существуют также такие метрики точности модели как precision и recall.\n",
    "- Accuracy показывает, насколько точна модель в целом по всем классам\n",
    "- Precision показывает точность при прогнозировании целевого класса \n",
    "- Recall показывает, может ли наша модель найти все объекты нужного нам (целевого) класса\n"
   ]
  },
  {
   "cell_type": "markdown",
   "id": "44ef6a8e",
   "metadata": {},
   "source": [
    "Тогда использование accuracy как метрики качества модели будет нецелесообразным в следующих случаях:\n",
    "- если нам необходимо понять насколько модель верна именно при прогнозировании целевого класса\n",
    "- если мы хотим узнать, возможно ли то, что наша модель сможет найти все объекты целевого класса\n",
    "- если мы имеем дело с несбалансированными классами (в одном классе 90% наблюдений, а в другом - 10%)"
   ]
  },
  {
   "cell_type": "markdown",
   "id": "f9dc1f17",
   "metadata": {},
   "source": [
    "## Задание 10."
   ]
  },
  {
   "cell_type": "markdown",
   "id": "317cb851",
   "metadata": {},
   "source": [
    "**Постройте матрицу ошибок для сделанного прогноза. Какое количество ложно\n",
    "положительных (false positive) и ложно отрицательных (false negative) результатов дал\n",
    "ваш прогноз?**"
   ]
  },
  {
   "cell_type": "code",
   "execution_count": 52,
   "id": "71804d10",
   "metadata": {},
   "outputs": [],
   "source": [
    "from sklearn.metrics import confusion_matrix\n",
    "import seaborn as sns\n",
    "from statsmodels.compat import lzip"
   ]
  },
  {
   "cell_type": "code",
   "execution_count": 55,
   "id": "1ba833b9",
   "metadata": {},
   "outputs": [
    {
     "data": {
      "image/png": "[encoded data removed]",
      "text/plain": [
       "<Figure size 432x288 with 2 Axes>"
      ]
     },
     "metadata": {
      "needs_background": "light"
     },
     "output_type": "display_data"
    }
   ],
   "source": [
    "#задаем имена классов\n",
    "classes_names = ['not looking for job change', 'looking for job change'] \n",
    "\n",
    "#создаем датафрейм для матрицы ошибок с колонками по названиям классов\n",
    "cm = pd.DataFrame(confusion_matrix(y_test, y_pred_knn), columns=classes_names, index = classes_names) \n",
    "\n",
    "#строим тепловую карту (хитмэп) на основе созданного датафрейма с матрицей ошибок\n",
    "#при этом сами значения ячеек будут отображаться на карте (annot=True)\n",
    "sns.heatmap(cm, annot=True) \n",
    "\n",
    "#превратим нашу матрицу-датафрейм в словарь со значениями с помощью .ravel() \n",
    "conf= confusion_matrix(y_test, y_pred_knn).ravel() \n",
    "\n",
    "#напишем, на каких именно местах должны находиться ячейки из хитмепа\n",
    "names = ['true_neg', 'false_pos',  \n",
    "        'false_neg', 'true_pos']   \n",
    "\n",
    "#применим lzip для вывода количества ложноположительных и ложноотрицательных результатов\n",
    "matrix = lzip(names,conf)               "
   ]
  },
  {
   "cell_type": "code",
   "execution_count": 56,
   "id": "38a51346",
   "metadata": {},
   "outputs": [
    {
     "name": "stdout",
     "output_type": "stream",
     "text": [
      " Количество ложноположительных результатов равняется 850, а количество ложноотрицательных - 429\n"
     ]
    }
   ],
   "source": [
    "print(f\" Количество ложноположительных результатов равняется {matrix[2][1]}, а количество ложноотрицательных - {matrix[1][1]}\")"
   ]
  },
  {
   "cell_type": "markdown",
   "id": "83ac0b75",
   "metadata": {},
   "source": [
    "## Задание 11."
   ]
  },
  {
   "cell_type": "markdown",
   "id": "8fd304c0",
   "metadata": {},
   "source": [
    "**Оцените точность (accuracy), точность (precision) и полноту (recall) сделанного\n",
    "прогноза двумя способами:\n",
    "•\n",
    "Посчитайте значение каждого показателя вручную. Выпишите формулу с\n",
    "полученными значениями из матрицы ошибок.\n",
    "•\n",
    "Вызовите метод для расчета парметров качества прогноза. Выпишите команды.\n",
    "Совпали ли значения, полученные двумя способами?**"
   ]
  },
  {
   "cell_type": "markdown",
   "id": "a8937937",
   "metadata": {},
   "source": [
    "### Подсчет вручную:"
   ]
  },
  {
   "cell_type": "markdown",
   "id": "96c9f029",
   "metadata": {},
   "source": [
    "$$ Accuracy=\\frac{TP+TN}{TP+FP+FN+TN}  $$\n",
    "$$ Precision=\\frac{TP}{TP+FP} $$\n",
    "$$ Recall=\\frac{TP}{TP+FN} $$"
   ]
  },
  {
   "cell_type": "code",
   "execution_count": 59,
   "id": "4351b5a0",
   "metadata": {},
   "outputs": [],
   "source": [
    "accuracy_formula= round((matrix[0][1] + matrix[3][1])/(matrix[0][1] + matrix[1][1] + matrix[2][1] + matrix[3][1]),3)\n",
    "precision_formula = round((matrix[3][1])/(matrix[1][1] + matrix[3][1]),3)\n",
    "recall_formula = round((matrix[3][1])/(matrix[2][1] + matrix[3][1]),3)"
   ]
  },
  {
   "cell_type": "markdown",
   "id": "e06e1bef",
   "metadata": {},
   "source": [
    "### Подсчет с помощью метода Python:"
   ]
  },
  {
   "cell_type": "code",
   "execution_count": 61,
   "id": "e67c2a3d",
   "metadata": {},
   "outputs": [],
   "source": [
    "from sklearn.metrics import classification_report\n",
    "report = classification_report(y_test,y_pred_knn, output_dict=True)"
   ]
  },
  {
   "cell_type": "code",
   "execution_count": 64,
   "id": "41e15ba3",
   "metadata": {},
   "outputs": [],
   "source": [
    "accuracy_auto = round(report['accuracy'],3)\n",
    "precision_auto = round(report['1.0']['precision'],3)\n",
    "recall_auto = round(report['1.0']['recall'],3) "
   ]
  },
  {
   "cell_type": "markdown",
   "id": "4328f8e5",
   "metadata": {},
   "source": [
    "### Сравнение результатов:"
   ]
  },
  {
   "cell_type": "code",
   "execution_count": 65,
   "id": "cb012749",
   "metadata": {},
   "outputs": [
    {
     "name": "stdout",
     "output_type": "stream",
     "text": [
      "By formula: accuracy = 0.746, precision = 0.462, recall = 0.303\n",
      "Automatically: accuracy = 0.746, precision = 0.462, recall = 0.303\n"
     ]
    }
   ],
   "source": [
    "print(f'By formula: accuracy = {accuracy_formula}, precision = {precision_formula}, recall = {recall_formula}')\n",
    "print(f'Automatically: accuracy = {accuracy_auto}, precision = {precision_auto}, recall = {recall_auto}')"
   ]
  },
  {
   "cell_type": "markdown",
   "id": "0a2b0c58",
   "metadata": {},
   "source": [
    "Значит, показатели accuracy, precision, recall, полученные двумя разными способами, в нашей модели совпадают."
   ]
  },
  {
   "cell_type": "markdown",
   "id": "025173c1",
   "metadata": {},
   "source": [
    "## Задание 12."
   ]
  },
  {
   "cell_type": "markdown",
   "id": "d6fd1756",
   "metadata": {},
   "source": [
    "**В чем заключаются недостатки метода k-ближайших соседей? К чему приводит\n",
    "слишком большое и слишком малое количество соседей?**"
   ]
  },
  {
   "cell_type": "markdown",
   "id": "58acc97a",
   "metadata": {},
   "source": [
    "Недостатки метода k-ближайших соседей:  \n",
    "- Метод работает существенно медленнее при увеличении объема выборки или независимых переменных  \n",
    "- Отстутствие однозначности в определении оптимального параметра k (сколько именно соседей стоит рассмотреть)\n",
    "- Чувствительность модели к несоразмерности данных (как в нашем примере), что обязывает нас проводить стандартизацию\n",
    "- Метод чувствителен также к выбросам в выборке"
   ]
  },
  {
   "cell_type": "markdown",
   "id": "0d51fd23",
   "metadata": {},
   "source": [
    "- Слишком большое количество соседей приведет к переобучению нашей модели на тренировочном множестве, а значит к неточным и некорректным результатам на тестовом множестве  \n",
    "  \n",
    "- Выбор слишком малого количества соседей обуславливает недообучение модели, так как выбирается слишком малый ориентир для работы модели уже на тестовой выборке"
   ]
  }
 ],
 "metadata": {
  "kernelspec": {
   "display_name": "Python 3 (ipykernel)",
   "language": "python",
   "name": "python3"
  },
  "language_info": {
   "codemirror_mode": {
    "name": "ipython",
    "version": 3
   },
   "file_extension": ".py",
   "mimetype": "text/x-python",
   "name": "python",
   "nbconvert_exporter": "python",
   "pygments_lexer": "ipython3",
   "version": "3.9.7"
  }
 },
 "nbformat": 4,
 "nbformat_minor": 5
}
