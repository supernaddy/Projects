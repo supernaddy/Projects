{
 "cells": [
  {
   "cell_type": "markdown",
   "id": "e3e02a40",
   "metadata": {},
   "source": [
    "# Домашнее задание №3.\n",
    "\n",
    "*Выполнила: Книс Надежда*"
   ]
  },
  {
   "cell_type": "markdown",
   "id": "4ab1300a",
   "metadata": {},
   "source": [
    "## Задание 1"
   ]
  },
  {
   "cell_type": "code",
   "execution_count": 1,
   "id": "9567ff8f",
   "metadata": {},
   "outputs": [],
   "source": [
    "import pandas as pd\n",
    "df = pd.read_stata('DZ_var10.dta') "
   ]
  },
  {
   "cell_type": "code",
   "execution_count": 2,
   "id": "ade0a5ed",
   "metadata": {},
   "outputs": [
    {
     "data": {
      "text/html": [
       "<div>\n",
       "<style scoped>\n",
       "    .dataframe tbody tr th:only-of-type {\n",
       "        vertical-align: middle;\n",
       "    }\n",
       "\n",
       "    .dataframe tbody tr th {\n",
       "        vertical-align: top;\n",
       "    }\n",
       "\n",
       "    .dataframe thead th {\n",
       "        text-align: right;\n",
       "    }\n",
       "</style>\n",
       "<table border=\"1\" class=\"dataframe\">\n",
       "  <thead>\n",
       "    <tr style=\"text-align: right;\">\n",
       "      <th></th>\n",
       "      <th>idind</th>\n",
       "      <th>year</th>\n",
       "      <th>region</th>\n",
       "      <th>h5</th>\n",
       "      <th>age</th>\n",
       "      <th>monthly_wage</th>\n",
       "      <th>married</th>\n",
       "      <th>higher_educ</th>\n",
       "    </tr>\n",
       "  </thead>\n",
       "  <tbody>\n",
       "    <tr>\n",
       "      <th>0</th>\n",
       "      <td>1</td>\n",
       "      <td>2012</td>\n",
       "      <td>Ленинградская область, Волосовский район</td>\n",
       "      <td>ЖЕНСКИЙ</td>\n",
       "      <td>39</td>\n",
       "      <td>43000.0</td>\n",
       "      <td>0.0</td>\n",
       "      <td>1.0</td>\n",
       "    </tr>\n",
       "    <tr>\n",
       "      <th>1</th>\n",
       "      <td>11293</td>\n",
       "      <td>2012</td>\n",
       "      <td>Ленинградская область, Волосовский район</td>\n",
       "      <td>МУЖСКОЙ</td>\n",
       "      <td>17</td>\n",
       "      <td>NaN</td>\n",
       "      <td>0.0</td>\n",
       "      <td>0.0</td>\n",
       "    </tr>\n",
       "    <tr>\n",
       "      <th>2</th>\n",
       "      <td>24101</td>\n",
       "      <td>2012</td>\n",
       "      <td>Ленинградская область, Волосовский район</td>\n",
       "      <td>ЖЕНСКИЙ</td>\n",
       "      <td>9</td>\n",
       "      <td>NaN</td>\n",
       "      <td>NaN</td>\n",
       "      <td>0.0</td>\n",
       "    </tr>\n",
       "    <tr>\n",
       "      <th>3</th>\n",
       "      <td>5</td>\n",
       "      <td>2012</td>\n",
       "      <td>Ленинградская область, Волосовский район</td>\n",
       "      <td>ЖЕНСКИЙ</td>\n",
       "      <td>28</td>\n",
       "      <td>45000.0</td>\n",
       "      <td>1.0</td>\n",
       "      <td>0.0</td>\n",
       "    </tr>\n",
       "    <tr>\n",
       "      <th>4</th>\n",
       "      <td>7</td>\n",
       "      <td>2012</td>\n",
       "      <td>Ленинградская область, Волосовский район</td>\n",
       "      <td>ЖЕНСКИЙ</td>\n",
       "      <td>68</td>\n",
       "      <td>NaN</td>\n",
       "      <td>0.0</td>\n",
       "      <td>0.0</td>\n",
       "    </tr>\n",
       "    <tr>\n",
       "      <th>...</th>\n",
       "      <td>...</td>\n",
       "      <td>...</td>\n",
       "      <td>...</td>\n",
       "      <td>...</td>\n",
       "      <td>...</td>\n",
       "      <td>...</td>\n",
       "      <td>...</td>\n",
       "      <td>...</td>\n",
       "    </tr>\n",
       "    <tr>\n",
       "      <th>22529</th>\n",
       "      <td>47958</td>\n",
       "      <td>2012</td>\n",
       "      <td>Новосибирская область, Бердский район (с 2003</td>\n",
       "      <td>ЖЕНСКИЙ</td>\n",
       "      <td>16</td>\n",
       "      <td>NaN</td>\n",
       "      <td>0.0</td>\n",
       "      <td>0.0</td>\n",
       "    </tr>\n",
       "    <tr>\n",
       "      <th>22530</th>\n",
       "      <td>47959</td>\n",
       "      <td>2012</td>\n",
       "      <td>Новосибирская область, Бердский район (с 2003</td>\n",
       "      <td>МУЖСКОЙ</td>\n",
       "      <td>7</td>\n",
       "      <td>NaN</td>\n",
       "      <td>NaN</td>\n",
       "      <td>0.0</td>\n",
       "    </tr>\n",
       "    <tr>\n",
       "      <th>22531</th>\n",
       "      <td>47960</td>\n",
       "      <td>2012</td>\n",
       "      <td>Новосибирская область, Бердский район (с 2003</td>\n",
       "      <td>МУЖСКОЙ</td>\n",
       "      <td>44</td>\n",
       "      <td>20000.0</td>\n",
       "      <td>1.0</td>\n",
       "      <td>0.0</td>\n",
       "    </tr>\n",
       "    <tr>\n",
       "      <th>22532</th>\n",
       "      <td>47961</td>\n",
       "      <td>2012</td>\n",
       "      <td>Новосибирская область, Бердский район (с 2003</td>\n",
       "      <td>ЖЕНСКИЙ</td>\n",
       "      <td>41</td>\n",
       "      <td>10000.0</td>\n",
       "      <td>1.0</td>\n",
       "      <td>0.0</td>\n",
       "    </tr>\n",
       "    <tr>\n",
       "      <th>22533</th>\n",
       "      <td>47962</td>\n",
       "      <td>2012</td>\n",
       "      <td>Новосибирская область, Бердский район (с 2003</td>\n",
       "      <td>ЖЕНСКИЙ</td>\n",
       "      <td>21</td>\n",
       "      <td>10000.0</td>\n",
       "      <td>0.0</td>\n",
       "      <td>0.0</td>\n",
       "    </tr>\n",
       "  </tbody>\n",
       "</table>\n",
       "<p>22534 rows × 8 columns</p>\n",
       "</div>"
      ],
      "text/plain": [
       "       idind  year                                         region       h5  \\\n",
       "0          1  2012       Ленинградская область, Волосовский район  ЖЕНСКИЙ   \n",
       "1      11293  2012       Ленинградская область, Волосовский район  МУЖСКОЙ   \n",
       "2      24101  2012       Ленинградская область, Волосовский район  ЖЕНСКИЙ   \n",
       "3          5  2012       Ленинградская область, Волосовский район  ЖЕНСКИЙ   \n",
       "4          7  2012       Ленинградская область, Волосовский район  ЖЕНСКИЙ   \n",
       "...      ...   ...                                            ...      ...   \n",
       "22529  47958  2012  Новосибирская область, Бердский район (с 2003  ЖЕНСКИЙ   \n",
       "22530  47959  2012  Новосибирская область, Бердский район (с 2003  МУЖСКОЙ   \n",
       "22531  47960  2012  Новосибирская область, Бердский район (с 2003  МУЖСКОЙ   \n",
       "22532  47961  2012  Новосибирская область, Бердский район (с 2003  ЖЕНСКИЙ   \n",
       "22533  47962  2012  Новосибирская область, Бердский район (с 2003  ЖЕНСКИЙ   \n",
       "\n",
       "      age monthly_wage  married  higher_educ  \n",
       "0      39      43000.0      0.0          1.0  \n",
       "1      17          NaN      0.0          0.0  \n",
       "2       9          NaN      NaN          0.0  \n",
       "3      28      45000.0      1.0          0.0  \n",
       "4      68          NaN      0.0          0.0  \n",
       "...    ..          ...      ...          ...  \n",
       "22529  16          NaN      0.0          0.0  \n",
       "22530   7          NaN      NaN          0.0  \n",
       "22531  44      20000.0      1.0          0.0  \n",
       "22532  41      10000.0      1.0          0.0  \n",
       "22533  21      10000.0      0.0          0.0  \n",
       "\n",
       "[22534 rows x 8 columns]"
      ]
     },
     "execution_count": 2,
     "metadata": {},
     "output_type": "execute_result"
    }
   ],
   "source": [
    "df"
   ]
  },
  {
   "cell_type": "markdown",
   "id": "22bcee80",
   "metadata": {},
   "source": [
    "## Задание 2"
   ]
  },
  {
   "cell_type": "code",
   "execution_count": 8,
   "id": "435c086e",
   "metadata": {},
   "outputs": [],
   "source": [
    "df.rename(columns= {'h5':'gender'}, inplace=True)"
   ]
  },
  {
   "cell_type": "code",
   "execution_count": 9,
   "id": "d0ed546a",
   "metadata": {},
   "outputs": [
    {
     "data": {
      "text/html": [
       "<div>\n",
       "<style scoped>\n",
       "    .dataframe tbody tr th:only-of-type {\n",
       "        vertical-align: middle;\n",
       "    }\n",
       "\n",
       "    .dataframe tbody tr th {\n",
       "        vertical-align: top;\n",
       "    }\n",
       "\n",
       "    .dataframe thead th {\n",
       "        text-align: right;\n",
       "    }\n",
       "</style>\n",
       "<table border=\"1\" class=\"dataframe\">\n",
       "  <thead>\n",
       "    <tr style=\"text-align: right;\">\n",
       "      <th></th>\n",
       "      <th>idind</th>\n",
       "      <th>year</th>\n",
       "      <th>region</th>\n",
       "      <th>gender</th>\n",
       "      <th>age</th>\n",
       "      <th>monthly_wage</th>\n",
       "      <th>married</th>\n",
       "      <th>higher_educ</th>\n",
       "    </tr>\n",
       "  </thead>\n",
       "  <tbody>\n",
       "    <tr>\n",
       "      <th>0</th>\n",
       "      <td>1</td>\n",
       "      <td>2012</td>\n",
       "      <td>Ленинградская область, Волосовский район</td>\n",
       "      <td>ЖЕНСКИЙ</td>\n",
       "      <td>39</td>\n",
       "      <td>43000.0</td>\n",
       "      <td>0.0</td>\n",
       "      <td>1.0</td>\n",
       "    </tr>\n",
       "    <tr>\n",
       "      <th>1</th>\n",
       "      <td>11293</td>\n",
       "      <td>2012</td>\n",
       "      <td>Ленинградская область, Волосовский район</td>\n",
       "      <td>МУЖСКОЙ</td>\n",
       "      <td>17</td>\n",
       "      <td>NaN</td>\n",
       "      <td>0.0</td>\n",
       "      <td>0.0</td>\n",
       "    </tr>\n",
       "    <tr>\n",
       "      <th>2</th>\n",
       "      <td>24101</td>\n",
       "      <td>2012</td>\n",
       "      <td>Ленинградская область, Волосовский район</td>\n",
       "      <td>ЖЕНСКИЙ</td>\n",
       "      <td>9</td>\n",
       "      <td>NaN</td>\n",
       "      <td>NaN</td>\n",
       "      <td>0.0</td>\n",
       "    </tr>\n",
       "    <tr>\n",
       "      <th>3</th>\n",
       "      <td>5</td>\n",
       "      <td>2012</td>\n",
       "      <td>Ленинградская область, Волосовский район</td>\n",
       "      <td>ЖЕНСКИЙ</td>\n",
       "      <td>28</td>\n",
       "      <td>45000.0</td>\n",
       "      <td>1.0</td>\n",
       "      <td>0.0</td>\n",
       "    </tr>\n",
       "    <tr>\n",
       "      <th>4</th>\n",
       "      <td>7</td>\n",
       "      <td>2012</td>\n",
       "      <td>Ленинградская область, Волосовский район</td>\n",
       "      <td>ЖЕНСКИЙ</td>\n",
       "      <td>68</td>\n",
       "      <td>NaN</td>\n",
       "      <td>0.0</td>\n",
       "      <td>0.0</td>\n",
       "    </tr>\n",
       "    <tr>\n",
       "      <th>...</th>\n",
       "      <td>...</td>\n",
       "      <td>...</td>\n",
       "      <td>...</td>\n",
       "      <td>...</td>\n",
       "      <td>...</td>\n",
       "      <td>...</td>\n",
       "      <td>...</td>\n",
       "      <td>...</td>\n",
       "    </tr>\n",
       "    <tr>\n",
       "      <th>22529</th>\n",
       "      <td>47958</td>\n",
       "      <td>2012</td>\n",
       "      <td>Новосибирская область, Бердский район (с 2003</td>\n",
       "      <td>ЖЕНСКИЙ</td>\n",
       "      <td>16</td>\n",
       "      <td>NaN</td>\n",
       "      <td>0.0</td>\n",
       "      <td>0.0</td>\n",
       "    </tr>\n",
       "    <tr>\n",
       "      <th>22530</th>\n",
       "      <td>47959</td>\n",
       "      <td>2012</td>\n",
       "      <td>Новосибирская область, Бердский район (с 2003</td>\n",
       "      <td>МУЖСКОЙ</td>\n",
       "      <td>7</td>\n",
       "      <td>NaN</td>\n",
       "      <td>NaN</td>\n",
       "      <td>0.0</td>\n",
       "    </tr>\n",
       "    <tr>\n",
       "      <th>22531</th>\n",
       "      <td>47960</td>\n",
       "      <td>2012</td>\n",
       "      <td>Новосибирская область, Бердский район (с 2003</td>\n",
       "      <td>МУЖСКОЙ</td>\n",
       "      <td>44</td>\n",
       "      <td>20000.0</td>\n",
       "      <td>1.0</td>\n",
       "      <td>0.0</td>\n",
       "    </tr>\n",
       "    <tr>\n",
       "      <th>22532</th>\n",
       "      <td>47961</td>\n",
       "      <td>2012</td>\n",
       "      <td>Новосибирская область, Бердский район (с 2003</td>\n",
       "      <td>ЖЕНСКИЙ</td>\n",
       "      <td>41</td>\n",
       "      <td>10000.0</td>\n",
       "      <td>1.0</td>\n",
       "      <td>0.0</td>\n",
       "    </tr>\n",
       "    <tr>\n",
       "      <th>22533</th>\n",
       "      <td>47962</td>\n",
       "      <td>2012</td>\n",
       "      <td>Новосибирская область, Бердский район (с 2003</td>\n",
       "      <td>ЖЕНСКИЙ</td>\n",
       "      <td>21</td>\n",
       "      <td>10000.0</td>\n",
       "      <td>0.0</td>\n",
       "      <td>0.0</td>\n",
       "    </tr>\n",
       "  </tbody>\n",
       "</table>\n",
       "<p>22534 rows × 8 columns</p>\n",
       "</div>"
      ],
      "text/plain": [
       "       idind  year                                         region   gender  \\\n",
       "0          1  2012       Ленинградская область, Волосовский район  ЖЕНСКИЙ   \n",
       "1      11293  2012       Ленинградская область, Волосовский район  МУЖСКОЙ   \n",
       "2      24101  2012       Ленинградская область, Волосовский район  ЖЕНСКИЙ   \n",
       "3          5  2012       Ленинградская область, Волосовский район  ЖЕНСКИЙ   \n",
       "4          7  2012       Ленинградская область, Волосовский район  ЖЕНСКИЙ   \n",
       "...      ...   ...                                            ...      ...   \n",
       "22529  47958  2012  Новосибирская область, Бердский район (с 2003  ЖЕНСКИЙ   \n",
       "22530  47959  2012  Новосибирская область, Бердский район (с 2003  МУЖСКОЙ   \n",
       "22531  47960  2012  Новосибирская область, Бердский район (с 2003  МУЖСКОЙ   \n",
       "22532  47961  2012  Новосибирская область, Бердский район (с 2003  ЖЕНСКИЙ   \n",
       "22533  47962  2012  Новосибирская область, Бердский район (с 2003  ЖЕНСКИЙ   \n",
       "\n",
       "      age monthly_wage  married  higher_educ  \n",
       "0      39      43000.0      0.0          1.0  \n",
       "1      17          NaN      0.0          0.0  \n",
       "2       9          NaN      NaN          0.0  \n",
       "3      28      45000.0      1.0          0.0  \n",
       "4      68          NaN      0.0          0.0  \n",
       "...    ..          ...      ...          ...  \n",
       "22529  16          NaN      0.0          0.0  \n",
       "22530   7          NaN      NaN          0.0  \n",
       "22531  44      20000.0      1.0          0.0  \n",
       "22532  41      10000.0      1.0          0.0  \n",
       "22533  21      10000.0      0.0          0.0  \n",
       "\n",
       "[22534 rows x 8 columns]"
      ]
     },
     "execution_count": 9,
     "metadata": {},
     "output_type": "execute_result"
    }
   ],
   "source": [
    "df"
   ]
  },
  {
   "cell_type": "markdown",
   "id": "a0c52132",
   "metadata": {},
   "source": [
    "## Задание 3.1"
   ]
  },
  {
   "cell_type": "markdown",
   "id": "bd6cece2",
   "metadata": {},
   "source": [
    "**Какую среднюю заработную плату получают мужчины и женщины в выборке? Запишите команду. Выпишите значение в тысячах рублей.**"
   ]
  },
  {
   "cell_type": "code",
   "execution_count": 11,
   "id": "dcdba278",
   "metadata": {},
   "outputs": [],
   "source": [
    "df.dropna(inplace=True)"
   ]
  },
  {
   "cell_type": "code",
   "execution_count": 12,
   "id": "eb34728e",
   "metadata": {},
   "outputs": [
    {
     "data": {
      "text/html": [
       "<div>\n",
       "<style scoped>\n",
       "    .dataframe tbody tr th:only-of-type {\n",
       "        vertical-align: middle;\n",
       "    }\n",
       "\n",
       "    .dataframe tbody tr th {\n",
       "        vertical-align: top;\n",
       "    }\n",
       "\n",
       "    .dataframe thead th {\n",
       "        text-align: right;\n",
       "    }\n",
       "</style>\n",
       "<table border=\"1\" class=\"dataframe\">\n",
       "  <thead>\n",
       "    <tr style=\"text-align: right;\">\n",
       "      <th></th>\n",
       "      <th>idind</th>\n",
       "      <th>year</th>\n",
       "      <th>region</th>\n",
       "      <th>gender</th>\n",
       "      <th>age</th>\n",
       "      <th>monthly_wage</th>\n",
       "      <th>married</th>\n",
       "      <th>higher_educ</th>\n",
       "    </tr>\n",
       "  </thead>\n",
       "  <tbody>\n",
       "    <tr>\n",
       "      <th>0</th>\n",
       "      <td>1</td>\n",
       "      <td>2012</td>\n",
       "      <td>Ленинградская область, Волосовский район</td>\n",
       "      <td>ЖЕНСКИЙ</td>\n",
       "      <td>39</td>\n",
       "      <td>43000.0</td>\n",
       "      <td>0.0</td>\n",
       "      <td>1.0</td>\n",
       "    </tr>\n",
       "    <tr>\n",
       "      <th>3</th>\n",
       "      <td>5</td>\n",
       "      <td>2012</td>\n",
       "      <td>Ленинградская область, Волосовский район</td>\n",
       "      <td>ЖЕНСКИЙ</td>\n",
       "      <td>28</td>\n",
       "      <td>45000.0</td>\n",
       "      <td>1.0</td>\n",
       "      <td>0.0</td>\n",
       "    </tr>\n",
       "    <tr>\n",
       "      <th>7</th>\n",
       "      <td>21443</td>\n",
       "      <td>2012</td>\n",
       "      <td>Ленинградская область, Волосовский район</td>\n",
       "      <td>ЖЕНСКИЙ</td>\n",
       "      <td>52</td>\n",
       "      <td>15000.0</td>\n",
       "      <td>0.0</td>\n",
       "      <td>0.0</td>\n",
       "    </tr>\n",
       "    <tr>\n",
       "      <th>8</th>\n",
       "      <td>3</td>\n",
       "      <td>2012</td>\n",
       "      <td>Ленинградская область, Волосовский район</td>\n",
       "      <td>ЖЕНСКИЙ</td>\n",
       "      <td>57</td>\n",
       "      <td>12000.0</td>\n",
       "      <td>0.0</td>\n",
       "      <td>0.0</td>\n",
       "    </tr>\n",
       "    <tr>\n",
       "      <th>9</th>\n",
       "      <td>25025</td>\n",
       "      <td>2012</td>\n",
       "      <td>Ленинградская область, Волосовский район</td>\n",
       "      <td>МУЖСКОЙ</td>\n",
       "      <td>35</td>\n",
       "      <td>28000.0</td>\n",
       "      <td>1.0</td>\n",
       "      <td>0.0</td>\n",
       "    </tr>\n",
       "    <tr>\n",
       "      <th>...</th>\n",
       "      <td>...</td>\n",
       "      <td>...</td>\n",
       "      <td>...</td>\n",
       "      <td>...</td>\n",
       "      <td>...</td>\n",
       "      <td>...</td>\n",
       "      <td>...</td>\n",
       "      <td>...</td>\n",
       "    </tr>\n",
       "    <tr>\n",
       "      <th>22525</th>\n",
       "      <td>47954</td>\n",
       "      <td>2012</td>\n",
       "      <td>Новосибирская область, Бердский район (с 2003</td>\n",
       "      <td>ЖЕНСКИЙ</td>\n",
       "      <td>39</td>\n",
       "      <td>30000.0</td>\n",
       "      <td>1.0</td>\n",
       "      <td>0.0</td>\n",
       "    </tr>\n",
       "    <tr>\n",
       "      <th>22527</th>\n",
       "      <td>47956</td>\n",
       "      <td>2012</td>\n",
       "      <td>Новосибирская область, Бердский район (с 2003</td>\n",
       "      <td>ЖЕНСКИЙ</td>\n",
       "      <td>37</td>\n",
       "      <td>10000.0</td>\n",
       "      <td>1.0</td>\n",
       "      <td>1.0</td>\n",
       "    </tr>\n",
       "    <tr>\n",
       "      <th>22531</th>\n",
       "      <td>47960</td>\n",
       "      <td>2012</td>\n",
       "      <td>Новосибирская область, Бердский район (с 2003</td>\n",
       "      <td>МУЖСКОЙ</td>\n",
       "      <td>44</td>\n",
       "      <td>20000.0</td>\n",
       "      <td>1.0</td>\n",
       "      <td>0.0</td>\n",
       "    </tr>\n",
       "    <tr>\n",
       "      <th>22532</th>\n",
       "      <td>47961</td>\n",
       "      <td>2012</td>\n",
       "      <td>Новосибирская область, Бердский район (с 2003</td>\n",
       "      <td>ЖЕНСКИЙ</td>\n",
       "      <td>41</td>\n",
       "      <td>10000.0</td>\n",
       "      <td>1.0</td>\n",
       "      <td>0.0</td>\n",
       "    </tr>\n",
       "    <tr>\n",
       "      <th>22533</th>\n",
       "      <td>47962</td>\n",
       "      <td>2012</td>\n",
       "      <td>Новосибирская область, Бердский район (с 2003</td>\n",
       "      <td>ЖЕНСКИЙ</td>\n",
       "      <td>21</td>\n",
       "      <td>10000.0</td>\n",
       "      <td>0.0</td>\n",
       "      <td>0.0</td>\n",
       "    </tr>\n",
       "  </tbody>\n",
       "</table>\n",
       "<p>9491 rows × 8 columns</p>\n",
       "</div>"
      ],
      "text/plain": [
       "       idind  year                                         region   gender  \\\n",
       "0          1  2012       Ленинградская область, Волосовский район  ЖЕНСКИЙ   \n",
       "3          5  2012       Ленинградская область, Волосовский район  ЖЕНСКИЙ   \n",
       "7      21443  2012       Ленинградская область, Волосовский район  ЖЕНСКИЙ   \n",
       "8          3  2012       Ленинградская область, Волосовский район  ЖЕНСКИЙ   \n",
       "9      25025  2012       Ленинградская область, Волосовский район  МУЖСКОЙ   \n",
       "...      ...   ...                                            ...      ...   \n",
       "22525  47954  2012  Новосибирская область, Бердский район (с 2003  ЖЕНСКИЙ   \n",
       "22527  47956  2012  Новосибирская область, Бердский район (с 2003  ЖЕНСКИЙ   \n",
       "22531  47960  2012  Новосибирская область, Бердский район (с 2003  МУЖСКОЙ   \n",
       "22532  47961  2012  Новосибирская область, Бердский район (с 2003  ЖЕНСКИЙ   \n",
       "22533  47962  2012  Новосибирская область, Бердский район (с 2003  ЖЕНСКИЙ   \n",
       "\n",
       "      age monthly_wage  married  higher_educ  \n",
       "0      39      43000.0      0.0          1.0  \n",
       "3      28      45000.0      1.0          0.0  \n",
       "7      52      15000.0      0.0          0.0  \n",
       "8      57      12000.0      0.0          0.0  \n",
       "9      35      28000.0      1.0          0.0  \n",
       "...    ..          ...      ...          ...  \n",
       "22525  39      30000.0      1.0          0.0  \n",
       "22527  37      10000.0      1.0          1.0  \n",
       "22531  44      20000.0      1.0          0.0  \n",
       "22532  41      10000.0      1.0          0.0  \n",
       "22533  21      10000.0      0.0          0.0  \n",
       "\n",
       "[9491 rows x 8 columns]"
      ]
     },
     "execution_count": 12,
     "metadata": {},
     "output_type": "execute_result"
    }
   ],
   "source": [
    "df"
   ]
  },
  {
   "cell_type": "code",
   "execution_count": 16,
   "id": "1a4e3536",
   "metadata": {
    "scrolled": true
   },
   "outputs": [
    {
     "data": {
      "text/plain": [
       "idind              int32\n",
       "year               int16\n",
       "region          category\n",
       "gender          category\n",
       "age             category\n",
       "monthly_wage    category\n",
       "married          float64\n",
       "higher_educ      float32\n",
       "dtype: object"
      ]
     },
     "execution_count": 16,
     "metadata": {},
     "output_type": "execute_result"
    }
   ],
   "source": [
    "df.dtypes"
   ]
  },
  {
   "cell_type": "code",
   "execution_count": 20,
   "id": "53422a9a",
   "metadata": {},
   "outputs": [],
   "source": [
    "df['monthly_wage'] = df['monthly_wage'].astype('float')"
   ]
  },
  {
   "cell_type": "code",
   "execution_count": 48,
   "id": "c4d2a819",
   "metadata": {},
   "outputs": [],
   "source": [
    "df['age'] = df['age'].astype('int')"
   ]
  },
  {
   "cell_type": "code",
   "execution_count": 21,
   "id": "7de9b250",
   "metadata": {},
   "outputs": [
    {
     "name": "stdout",
     "output_type": "stream",
     "text": [
      "19.10615064060689\n"
     ]
    }
   ],
   "source": [
    "a = df['monthly_wage'].mean()\n",
    "print(a/1000)"
   ]
  },
  {
   "cell_type": "markdown",
   "id": "d8b62e7d",
   "metadata": {},
   "source": [
    "## Задание 3.2"
   ]
  },
  {
   "cell_type": "markdown",
   "id": "28c2c897",
   "metadata": {},
   "source": [
    "**Каков минимум и максимум заработной платы в выборке? Выпишите значение в тысячах рублей.**"
   ]
  },
  {
   "cell_type": "code",
   "execution_count": 24,
   "id": "ab42902a",
   "metadata": {},
   "outputs": [
    {
     "name": "stdout",
     "output_type": "stream",
     "text": [
      "min: 1.0 max: 400.0\n"
     ]
    }
   ],
   "source": [
    "min = df['monthly_wage'].min()/1000\n",
    "max = df['monthly_wage'].max()/1000\n",
    "print('min:', min, 'max:', max)"
   ]
  },
  {
   "cell_type": "markdown",
   "id": "6d6ca74e",
   "metadata": {},
   "source": [
    "## Задание 4.1"
   ]
  },
  {
   "cell_type": "markdown",
   "id": "6ec4de4d",
   "metadata": {},
   "source": [
    "**Создайте новую переменную для логарифма заработной платы. Выпишите среднее значение для выборки. Округлите до десятых.**"
   ]
  },
  {
   "cell_type": "code",
   "execution_count": 25,
   "id": "014fb743",
   "metadata": {},
   "outputs": [],
   "source": [
    "import numpy as np"
   ]
  },
  {
   "cell_type": "code",
   "execution_count": 27,
   "id": "8954c0b1",
   "metadata": {},
   "outputs": [],
   "source": [
    "df['ln_wage'] = np.log(df['monthly_wage'])"
   ]
  },
  {
   "cell_type": "code",
   "execution_count": 29,
   "id": "3a08d405",
   "metadata": {},
   "outputs": [
    {
     "data": {
      "text/plain": [
       "9.6"
      ]
     },
     "execution_count": 29,
     "metadata": {},
     "output_type": "execute_result"
    }
   ],
   "source": [
    "round(df['ln_wage'].mean(),1)"
   ]
  },
  {
   "cell_type": "markdown",
   "id": "820bf033",
   "metadata": {},
   "source": [
    "## Задание 4.2"
   ]
  },
  {
   "cell_type": "markdown",
   "id": "f7cab75f",
   "metadata": {},
   "source": [
    "**Создайте новую переменную для квадрата возраста. Выпишите среднее значение для выборки. Округлите до десятых.**"
   ]
  },
  {
   "cell_type": "code",
   "execution_count": 49,
   "id": "e98ef181",
   "metadata": {},
   "outputs": [],
   "source": [
    "df['sq_age'] = np.square(df['age'])"
   ]
  },
  {
   "cell_type": "code",
   "execution_count": 50,
   "id": "3faf5075",
   "metadata": {},
   "outputs": [
    {
     "data": {
      "text/plain": [
       "1748.0"
      ]
     },
     "execution_count": 50,
     "metadata": {},
     "output_type": "execute_result"
    }
   ],
   "source": [
    "round(df['sq_age'].mean(),1)"
   ]
  },
  {
   "cell_type": "markdown",
   "id": "6104c0f5",
   "metadata": {},
   "source": [
    "## Задание 5"
   ]
  },
  {
   "cell_type": "markdown",
   "id": "b9892ee8",
   "metadata": {},
   "source": [
    "**Какая доля выборки имеет высшее образование? Запишите процент.**"
   ]
  },
  {
   "cell_type": "code",
   "execution_count": 47,
   "id": "101849ae",
   "metadata": {},
   "outputs": [
    {
     "name": "stdout",
     "output_type": "stream",
     "text": [
      "30.79759772415973\n"
     ]
    }
   ],
   "source": [
    "a = df[df['higher_educ']==1.0].shape[0]\n",
    "b = df.shape[0]\n",
    "print(a/b*100)"
   ]
  },
  {
   "cell_type": "markdown",
   "id": "27c949db",
   "metadata": {},
   "source": [
    "## Задание 6"
   ]
  },
  {
   "cell_type": "markdown",
   "id": "a5832a9f",
   "metadata": {},
   "source": [
    "**Оцените МНК-модель, где в качестве зависимой переменной выступает логарифм заработной платы, а в качестве объясняющих переменных – пол, возраст, квадрат возраста, высшее образование, семейное положение. Запишите команду.**"
   ]
  },
  {
   "cell_type": "code",
   "execution_count": 51,
   "id": "03d3ab5d",
   "metadata": {},
   "outputs": [],
   "source": [
    "import statsmodels.api as sm"
   ]
  },
  {
   "cell_type": "code",
   "execution_count": 52,
   "id": "600ecf61",
   "metadata": {},
   "outputs": [
    {
     "name": "stderr",
     "output_type": "stream",
     "text": [
      "C:\\Users\\Honor\\anaconda3\\lib\\site-packages\\statsmodels\\tsa\\tsatools.py:142: FutureWarning: In a future version of pandas all arguments of concat except for the argument 'objs' will be keyword-only\n",
      "  x = pd.concat(x[::order], 1)\n"
     ]
    },
    {
     "data": {
      "text/html": [
       "<table class=\"simpletable\">\n",
       "<caption>OLS Regression Results</caption>\n",
       "<tr>\n",
       "  <th>Dep. Variable:</th>         <td>ln_wage</td>     <th>  R-squared:         </th> <td>   0.177</td> \n",
       "</tr>\n",
       "<tr>\n",
       "  <th>Model:</th>                   <td>OLS</td>       <th>  Adj. R-squared:    </th> <td>   0.176</td> \n",
       "</tr>\n",
       "<tr>\n",
       "  <th>Method:</th>             <td>Least Squares</td>  <th>  F-statistic:       </th> <td>   407.0</td> \n",
       "</tr>\n",
       "<tr>\n",
       "  <th>Date:</th>             <td>Sat, 30 Sep 2023</td> <th>  Prob (F-statistic):</th>  <td>  0.00</td>  \n",
       "</tr>\n",
       "<tr>\n",
       "  <th>Time:</th>                 <td>02:11:45</td>     <th>  Log-Likelihood:    </th> <td> -9222.3</td> \n",
       "</tr>\n",
       "<tr>\n",
       "  <th>No. Observations:</th>      <td>  9491</td>      <th>  AIC:               </th> <td>1.846e+04</td>\n",
       "</tr>\n",
       "<tr>\n",
       "  <th>Df Residuals:</th>          <td>  9485</td>      <th>  BIC:               </th> <td>1.850e+04</td>\n",
       "</tr>\n",
       "<tr>\n",
       "  <th>Df Model:</th>              <td>     5</td>      <th>                     </th>     <td> </td>    \n",
       "</tr>\n",
       "<tr>\n",
       "  <th>Covariance Type:</th>      <td>nonrobust</td>    <th>                     </th>     <td> </td>    \n",
       "</tr>\n",
       "</table>\n",
       "<table class=\"simpletable\">\n",
       "<tr>\n",
       "         <td></td>            <th>coef</th>     <th>std err</th>      <th>t</th>      <th>P>|t|</th>  <th>[0.025</th>    <th>0.975]</th>  \n",
       "</tr>\n",
       "<tr>\n",
       "  <th>const</th>           <td>    8.9937</td> <td>    0.068</td> <td>  132.383</td> <td> 0.000</td> <td>    8.861</td> <td>    9.127</td>\n",
       "</tr>\n",
       "<tr>\n",
       "  <th>gender_ЖЕНСКИЙ</th>  <td>   -0.4489</td> <td>    0.014</td> <td>  -33.072</td> <td> 0.000</td> <td>   -0.476</td> <td>   -0.422</td>\n",
       "</tr>\n",
       "<tr>\n",
       "  <th>age</th>             <td>    0.0441</td> <td>    0.003</td> <td>   12.770</td> <td> 0.000</td> <td>    0.037</td> <td>    0.051</td>\n",
       "</tr>\n",
       "<tr>\n",
       "  <th>sq_age</th>          <td>   -0.0006</td> <td> 4.04e-05</td> <td>  -14.494</td> <td> 0.000</td> <td>   -0.001</td> <td>   -0.001</td>\n",
       "</tr>\n",
       "<tr>\n",
       "  <th>higher_educ_1.0</th> <td>    0.3930</td> <td>    0.014</td> <td>   27.415</td> <td> 0.000</td> <td>    0.365</td> <td>    0.421</td>\n",
       "</tr>\n",
       "<tr>\n",
       "  <th>married_1.0</th>     <td>   -0.0107</td> <td>    0.016</td> <td>   -0.682</td> <td> 0.495</td> <td>   -0.041</td> <td>    0.020</td>\n",
       "</tr>\n",
       "</table>\n",
       "<table class=\"simpletable\">\n",
       "<tr>\n",
       "  <th>Omnibus:</th>       <td>158.750</td> <th>  Durbin-Watson:     </th> <td>   1.404</td>\n",
       "</tr>\n",
       "<tr>\n",
       "  <th>Prob(Omnibus):</th> <td> 0.000</td>  <th>  Jarque-Bera (JB):  </th> <td> 276.809</td>\n",
       "</tr>\n",
       "<tr>\n",
       "  <th>Skew:</th>          <td>-0.126</td>  <th>  Prob(JB):          </th> <td>7.79e-61</td>\n",
       "</tr>\n",
       "<tr>\n",
       "  <th>Kurtosis:</th>      <td> 3.798</td>  <th>  Cond. No.          </th> <td>2.12e+04</td>\n",
       "</tr>\n",
       "</table><br/><br/>Notes:<br/>[1] Standard Errors assume that the covariance matrix of the errors is correctly specified.<br/>[2] The condition number is large, 2.12e+04. This might indicate that there are<br/>strong multicollinearity or other numerical problems."
      ],
      "text/plain": [
       "<class 'statsmodels.iolib.summary.Summary'>\n",
       "\"\"\"\n",
       "                            OLS Regression Results                            \n",
       "==============================================================================\n",
       "Dep. Variable:                ln_wage   R-squared:                       0.177\n",
       "Model:                            OLS   Adj. R-squared:                  0.176\n",
       "Method:                 Least Squares   F-statistic:                     407.0\n",
       "Date:                Sat, 30 Sep 2023   Prob (F-statistic):               0.00\n",
       "Time:                        02:11:45   Log-Likelihood:                -9222.3\n",
       "No. Observations:                9491   AIC:                         1.846e+04\n",
       "Df Residuals:                    9485   BIC:                         1.850e+04\n",
       "Df Model:                           5                                         \n",
       "Covariance Type:            nonrobust                                         \n",
       "===================================================================================\n",
       "                      coef    std err          t      P>|t|      [0.025      0.975]\n",
       "-----------------------------------------------------------------------------------\n",
       "const               8.9937      0.068    132.383      0.000       8.861       9.127\n",
       "gender_ЖЕНСКИЙ     -0.4489      0.014    -33.072      0.000      -0.476      -0.422\n",
       "age                 0.0441      0.003     12.770      0.000       0.037       0.051\n",
       "sq_age             -0.0006   4.04e-05    -14.494      0.000      -0.001      -0.001\n",
       "higher_educ_1.0     0.3930      0.014     27.415      0.000       0.365       0.421\n",
       "married_1.0        -0.0107      0.016     -0.682      0.495      -0.041       0.020\n",
       "==============================================================================\n",
       "Omnibus:                      158.750   Durbin-Watson:                   1.404\n",
       "Prob(Omnibus):                  0.000   Jarque-Bera (JB):              276.809\n",
       "Skew:                          -0.126   Prob(JB):                     7.79e-61\n",
       "Kurtosis:                       3.798   Cond. No.                     2.12e+04\n",
       "==============================================================================\n",
       "\n",
       "Notes:\n",
       "[1] Standard Errors assume that the covariance matrix of the errors is correctly specified.\n",
       "[2] The condition number is large, 2.12e+04. This might indicate that there are\n",
       "strong multicollinearity or other numerical problems.\n",
       "\"\"\""
      ]
     },
     "execution_count": 52,
     "metadata": {},
     "output_type": "execute_result"
    }
   ],
   "source": [
    "df2  = pd.get_dummies(df, columns=['gender', 'married', 'higher_educ'], drop_first=True)\n",
    "df2['gender_ЖЕНСКИЙ'] = df2['gender_ЖЕНСКИЙ'].astype('int')\n",
    "df2['higher_educ_1.0'] = df2['higher_educ_1.0'].astype('int')\n",
    "df2['married_1.0'] = df2['married_1.0'].astype('int')\n",
    "X = df2[['gender_ЖЕНСКИЙ', 'age', 'sq_age', 'higher_educ_1.0', 'married_1.0']]\n",
    "Y = df2['ln_wage']\n",
    "X  =sm.add_constant(X)\n",
    "res = sm.OLS(Y,X).fit()\n",
    "res.summary()\n"
   ]
  },
  {
   "cell_type": "markdown",
   "id": "d1a47981",
   "metadata": {},
   "source": [
    "## Задание 7"
   ]
  },
  {
   "cell_type": "markdown",
   "id": "338ef681",
   "metadata": {},
   "source": [
    "**Является ли получившаяся модель адекватной? Выпишите значение теста на адекватность и p-value.**"
   ]
  },
  {
   "cell_type": "markdown",
   "id": "fee2ddc6",
   "metadata": {},
   "source": [
    "Значение теста на адекватность: F-statistic =  407.0   \n",
    "\n",
    "Один из вариантов проверки модели на адекватность - это значимость F-статистики. Нулевая гипотеза теста об адекватности - это  равенство всех коэффициентов модели нулю. Соответственно, если она будет отвергаться, то модель является адекватной. Поэтому в нашем случае смотрим на p-value = Prob (F-statistic) = 0.00, он меньше, чем 0.01 или 0.05 (часто используемые уровни значимости), а значит, наша модель адекватна, поскольку нулевая гипотеза отвергается."
   ]
  },
  {
   "cell_type": "markdown",
   "id": "d32b9b0a",
   "metadata": {},
   "source": [
    "## Задание 8"
   ]
  },
  {
   "cell_type": "markdown",
   "id": "f2931775",
   "metadata": {},
   "source": [
    "**Какую долю дисперсии заработных плат объясняет ваша регрессионная модель? Выпишите значение.**"
   ]
  },
  {
   "cell_type": "markdown",
   "id": "f0adb93f",
   "metadata": {},
   "source": [
    "Долю объясняемой дисперсии можно посмотреть по коэффициенту детерминации R^2.  \n",
    "\n",
    "R-squared = 0.177.  \n",
    "\n",
    "Adj. R-squared = 0.176 (скорректированный коэф-т детерминации на случай увеличения объясняющих переменных в модели, т.е. чтобы в этом случае от роста числа переменных не росла объясняемость)"
   ]
  },
  {
   "cell_type": "markdown",
   "id": "c183c953",
   "metadata": {},
   "source": [
    "## Задание 9"
   ]
  },
  {
   "cell_type": "markdown",
   "id": "f5b61095",
   "metadata": {},
   "source": [
    "**Как высшее образование связано с уровнем заработных плат? Является ли коэффициент значимым? Проинтерпретируйте коэффициент увеличения/сокращения заработной платы.**"
   ]
  },
  {
   "cell_type": "markdown",
   "id": "1ce79077",
   "metadata": {},
   "source": [
    "Коэфициент при переменной высшего образования = 0.3930, значит, при увеличении уровня высшего образования на 1 ед. логарифм уровня зарплат растет на 0.3930 единиц. Положительная (прямая) зависимость.  \n",
    "\n",
    "P>|t|  = 0.00 => p-value = 0.00, что меньше любого уровня значимости.\n",
    "Значит, коэффициент является значимым."
   ]
  },
  {
   "cell_type": "markdown",
   "id": "dbd9c3a3",
   "metadata": {},
   "source": [
    "## Задание 10"
   ]
  },
  {
   "cell_type": "markdown",
   "id": "62a6fbc6",
   "metadata": {},
   "source": [
    "**Проведите тест Бройша-Пагана на выявление гетероскедастичности и выпишите значение p-value. Проинтерпретируйте результат. Возникает ли в модели проблема гетероскедастичности?**"
   ]
  },
  {
   "cell_type": "code",
   "execution_count": 59,
   "id": "183df164",
   "metadata": {},
   "outputs": [],
   "source": [
    "import statsmodels.stats.api as sms\n",
    "from statsmodels.compat import lzip"
   ]
  },
  {
   "cell_type": "code",
   "execution_count": 60,
   "id": "21291f86",
   "metadata": {},
   "outputs": [
    {
     "data": {
      "text/plain": [
       "[('Lagrange multiplier statistic', 8.034321223524866),\n",
       " ('p-value', 0.1543542336785945),\n",
       " ('f-value', 1.6072089552256548),\n",
       " ('f p-value', 0.15437651297930513)]"
      ]
     },
     "execution_count": 60,
     "metadata": {},
     "output_type": "execute_result"
    }
   ],
   "source": [
    "names = ['Lagrange multiplier statistic', 'p-value',\n",
    "        'f-value', 'f p-value']\n",
    "test = sms.het_breuschpagan(res.resid, res.model.exog)\n",
    "lzip(names, test)"
   ]
  },
  {
   "cell_type": "markdown",
   "id": "ecdbb493",
   "metadata": {},
   "source": [
    "p-value = 0.15\n",
    "Наш p-value значительно больше, чем 0.01 или 0.05, так как равен 0.15, следовательно, мы не отвергаем нулевую гипотезу о наличии гомоскедастичности в наших данных"
   ]
  },
  {
   "cell_type": "markdown",
   "id": "9787a1b6",
   "metadata": {},
   "source": [
    "## Задание 11"
   ]
  },
  {
   "cell_type": "markdown",
   "id": "5c3ba9a2",
   "metadata": {},
   "source": [
    "**Как вы считаете, будет ли в такой модели возникать проблема эндогенности? Почему?**"
   ]
  },
  {
   "cell_type": "code",
   "execution_count": 66,
   "id": "5b24c269",
   "metadata": {},
   "outputs": [
    {
     "name": "stdout",
     "output_type": "stream",
     "text": [
      "Collecting linearmodels\n",
      "  Downloading linearmodels-5.3-cp39-cp39-win_amd64.whl (2.0 MB)\n",
      "Requirement already satisfied: mypy-extensions>=0.4 in c:\\users\\honor\\anaconda3\\lib\\site-packages (from linearmodels) (0.4.3)\n",
      "Collecting setuptools-scm[toml]<8.0.0,>=7.0.0\n",
      "  Downloading setuptools_scm-7.1.0-py3-none-any.whl (43 kB)\n",
      "Collecting Cython>=0.29.34\n",
      "  Downloading Cython-3.0.2-cp39-cp39-win_amd64.whl (2.8 MB)\n",
      "Requirement already satisfied: pandas>=1.1.0 in c:\\users\\honor\\anaconda3\\lib\\site-packages (from linearmodels) (1.3.4)\n",
      "Requirement already satisfied: statsmodels>=0.12.0 in c:\\users\\honor\\anaconda3\\lib\\site-packages (from linearmodels) (0.12.2)\n",
      "Requirement already satisfied: numpy>=1.19.0 in c:\\users\\honor\\anaconda3\\lib\\site-packages (from linearmodels) (1.20.3)\n",
      "Collecting formulaic>=0.6.5\n",
      "  Downloading formulaic-0.6.5-py3-none-any.whl (90 kB)\n",
      "Collecting pyhdfe>=0.1\n",
      "  Downloading pyhdfe-0.2.0-py3-none-any.whl (19 kB)\n",
      "Requirement already satisfied: scipy>=1.5.0 in c:\\users\\honor\\anaconda3\\lib\\site-packages (from linearmodels) (1.7.1)\n",
      "Collecting interface-meta>=1.2.0\n",
      "  Downloading interface_meta-1.3.0-py3-none-any.whl (14 kB)\n",
      "Requirement already satisfied: wrapt>=1.0 in c:\\users\\honor\\anaconda3\\lib\\site-packages (from formulaic>=0.6.5->linearmodels) (1.12.1)\n",
      "Collecting typing-extensions>=4.2.0\n",
      "  Downloading typing_extensions-4.8.0-py3-none-any.whl (31 kB)\n",
      "Collecting astor>=0.8\n",
      "  Downloading astor-0.8.1-py2.py3-none-any.whl (27 kB)\n",
      "Requirement already satisfied: python-dateutil>=2.7.3 in c:\\users\\honor\\anaconda3\\lib\\site-packages (from pandas>=1.1.0->linearmodels) (2.8.2)\n",
      "Requirement already satisfied: pytz>=2017.3 in c:\\users\\honor\\anaconda3\\lib\\site-packages (from pandas>=1.1.0->linearmodels) (2021.3)\n",
      "Requirement already satisfied: six>=1.5 in c:\\users\\honor\\anaconda3\\lib\\site-packages (from python-dateutil>=2.7.3->pandas>=1.1.0->linearmodels) (1.16.0)\n",
      "Requirement already satisfied: packaging>=20.0 in c:\\users\\honor\\anaconda3\\lib\\site-packages (from setuptools-scm[toml]<8.0.0,>=7.0.0->linearmodels) (21.0)\n",
      "Requirement already satisfied: setuptools in c:\\users\\honor\\anaconda3\\lib\\site-packages (from setuptools-scm[toml]<8.0.0,>=7.0.0->linearmodels) (58.0.4)\n",
      "Collecting tomli>=1.0.0\n",
      "  Downloading tomli-2.0.1-py3-none-any.whl (12 kB)\n",
      "Requirement already satisfied: pyparsing>=2.0.2 in c:\\users\\honor\\anaconda3\\lib\\site-packages (from packaging>=20.0->setuptools-scm[toml]<8.0.0,>=7.0.0->linearmodels) (3.0.4)\n",
      "Requirement already satisfied: patsy>=0.5 in c:\\users\\honor\\anaconda3\\lib\\site-packages (from statsmodels>=0.12.0->linearmodels) (0.5.2)\n",
      "Installing collected packages: typing-extensions, tomli, setuptools-scm, interface-meta, astor, pyhdfe, formulaic, Cython, linearmodels\n",
      "  Attempting uninstall: typing-extensions\n",
      "    Found existing installation: typing-extensions 3.10.0.2\n",
      "    Uninstalling typing-extensions-3.10.0.2:\n",
      "      Successfully uninstalled typing-extensions-3.10.0.2\n",
      "  Attempting uninstall: Cython\n",
      "    Found existing installation: Cython 0.29.24\n",
      "    Uninstalling Cython-0.29.24:\n",
      "      Successfully uninstalled Cython-0.29.24\n",
      "Successfully installed Cython-3.0.2 astor-0.8.1 formulaic-0.6.5 interface-meta-1.3.0 linearmodels-5.3 pyhdfe-0.2.0 setuptools-scm-7.1.0 tomli-2.0.1 typing-extensions-4.8.0\n",
      "Note: you may need to restart the kernel to use updated packages.\n"
     ]
    }
   ],
   "source": [
    "pip install linearmodels"
   ]
  },
  {
   "cell_type": "code",
   "execution_count": 70,
   "id": "dc0a46da",
   "metadata": {},
   "outputs": [
    {
     "name": "stdout",
     "output_type": "stream",
     "text": [
      "Collecting typing_extensions==4.4.0\n",
      "  Downloading typing_extensions-4.4.0-py3-none-any.whl (26 kB)\n",
      "Installing collected packages: typing-extensions\n",
      "  Attempting uninstall: typing-extensions\n",
      "    Found existing installation: typing-extensions 4.8.0\n",
      "    Uninstalling typing-extensions-4.8.0:\n",
      "      Successfully uninstalled typing-extensions-4.8.0\n",
      "Successfully installed typing-extensions-4.4.0\n",
      "Requirement already satisfied: linearmodels in c:\\users\\honor\\anaconda3\\lib\\site-packages (5.3)\n",
      "Requirement already satisfied: formulaic>=0.6.5 in c:\\users\\honor\\anaconda3\\lib\\site-packages (from linearmodels) (0.6.5)\n",
      "Requirement already satisfied: statsmodels>=0.12.0 in c:\\users\\honor\\anaconda3\\lib\\site-packages (from linearmodels) (0.12.2)\n",
      "Requirement already satisfied: scipy>=1.5.0 in c:\\users\\honor\\anaconda3\\lib\\site-packages (from linearmodels) (1.7.1)\n",
      "Requirement already satisfied: Cython>=0.29.34 in c:\\users\\honor\\anaconda3\\lib\\site-packages (from linearmodels) (3.0.2)\n",
      "Requirement already satisfied: pyhdfe>=0.1 in c:\\users\\honor\\anaconda3\\lib\\site-packages (from linearmodels) (0.2.0)\n",
      "Requirement already satisfied: numpy>=1.19.0 in c:\\users\\honor\\anaconda3\\lib\\site-packages (from linearmodels) (1.20.3)\n",
      "Requirement already satisfied: setuptools-scm[toml]<8.0.0,>=7.0.0 in c:\\users\\honor\\anaconda3\\lib\\site-packages (from linearmodels) (7.1.0)\n",
      "Requirement already satisfied: pandas>=1.1.0 in c:\\users\\honor\\anaconda3\\lib\\site-packages (from linearmodels) (1.3.4)\n",
      "Requirement already satisfied: mypy-extensions>=0.4 in c:\\users\\honor\\anaconda3\\lib\\site-packages (from linearmodels) (0.4.3)\n",
      "Requirement already satisfied: wrapt>=1.0 in c:\\users\\honor\\anaconda3\\lib\\site-packages (from formulaic>=0.6.5->linearmodels) (1.12.1)\n",
      "Requirement already satisfied: typing-extensions>=4.2.0 in c:\\users\\honor\\anaconda3\\lib\\site-packages (from formulaic>=0.6.5->linearmodels) (4.4.0)\n",
      "Requirement already satisfied: interface-meta>=1.2.0 in c:\\users\\honor\\anaconda3\\lib\\site-packages (from formulaic>=0.6.5->linearmodels) (1.3.0)\n",
      "Requirement already satisfied: astor>=0.8 in c:\\users\\honor\\anaconda3\\lib\\site-packages (from formulaic>=0.6.5->linearmodels) (0.8.1)\n",
      "Requirement already satisfied: pytz>=2017.3 in c:\\users\\honor\\anaconda3\\lib\\site-packages (from pandas>=1.1.0->linearmodels) (2021.3)\n",
      "Requirement already satisfied: python-dateutil>=2.7.3 in c:\\users\\honor\\anaconda3\\lib\\site-packages (from pandas>=1.1.0->linearmodels) (2.8.2)\n",
      "Requirement already satisfied: six>=1.5 in c:\\users\\honor\\anaconda3\\lib\\site-packages (from python-dateutil>=2.7.3->pandas>=1.1.0->linearmodels) (1.16.0)\n",
      "Requirement already satisfied: setuptools in c:\\users\\honor\\anaconda3\\lib\\site-packages (from setuptools-scm[toml]<8.0.0,>=7.0.0->linearmodels) (58.0.4)\n",
      "Requirement already satisfied: packaging>=20.0 in c:\\users\\honor\\anaconda3\\lib\\site-packages (from setuptools-scm[toml]<8.0.0,>=7.0.0->linearmodels) (21.0)\n",
      "Requirement already satisfied: tomli>=1.0.0 in c:\\users\\honor\\anaconda3\\lib\\site-packages (from setuptools-scm[toml]<8.0.0,>=7.0.0->linearmodels) (2.0.1)\n",
      "Requirement already satisfied: pyparsing>=2.0.2 in c:\\users\\honor\\anaconda3\\lib\\site-packages (from packaging>=20.0->setuptools-scm[toml]<8.0.0,>=7.0.0->linearmodels) (3.0.4)\n",
      "Requirement already satisfied: patsy>=0.5 in c:\\users\\honor\\anaconda3\\lib\\site-packages (from statsmodels>=0.12.0->linearmodels) (0.5.2)\n"
     ]
    }
   ],
   "source": [
    "!pip install typing_extensions==4.4.0\n",
    "import typing_extensions\n",
    "from importlib import reload\n",
    "reload(typing_extensions)\n",
    "!pip install linearmodels"
   ]
  },
  {
   "cell_type": "code",
   "execution_count": 71,
   "id": "f4985f4c",
   "metadata": {},
   "outputs": [],
   "source": [
    "import linearmodels"
   ]
  },
  {
   "cell_type": "code",
   "execution_count": 72,
   "id": "6155452c",
   "metadata": {},
   "outputs": [
    {
     "name": "stderr",
     "output_type": "stream",
     "text": [
      "C:\\Users\\Honor\\anaconda3\\lib\\site-packages\\statsmodels\\tsa\\tsatools.py:142: FutureWarning: In a future version of pandas all arguments of concat except for the argument 'objs' will be keyword-only\n",
      "  x = pd.concat(x[::order], 1)\n"
     ]
    },
    {
     "data": {
      "text/plain": [
       "Durbin test of exogeneity\n",
       "H0: All endogenous variables are exogenous\n",
       "Statistic: 57.0306\n",
       "P-value: 0.0000\n",
       "Distributed: chi2(1)\n",
       "WaldTestStatistic, id: 0x246c6224bb0"
      ]
     },
     "execution_count": 72,
     "metadata": {},
     "output_type": "execute_result"
    }
   ],
   "source": [
    "\n",
    "instr = pd.get_dummies(df2, columns=[\"region\"], drop_first=True)\n",
    "a = instr.columns[9:48]\n",
    "\n",
    "for i in range(37):\n",
    "    instr[a[i]] = instr[a[i]].astype('int')\n",
    "    \n",
    "instr   \n",
    "\n",
    "b = instr.iloc[:,9:48]\n",
    "endog1 = df2['gender_ЖЕНСКИЙ']\n",
    "dep = df2['ln_wage']\n",
    "df2['sq_age'] = df2['sq_age'].astype(\"float\")\n",
    "df2['higher_educ_1.0'] = df2['higher_educ_1.0'].astype(\"float\")\n",
    "df2['married_1.0'] = df2['married_1.0'].astype(\"float\")\n",
    "exog = df2[['sq_age', 'higher_educ_1.0', 'married_1.0']]\n",
    "exog = sm.add_constant(exog)\n",
    "import linearmodels\n",
    "from linearmodels import IV2SLS\n",
    "ress = IV2SLS(dep,exog, endog1, b).fit(cov_type='unadjusted')\n",
    "ress.summary\n",
    "exog2 = df2[['gender_ЖЕНСКИЙ', 'sq_age', 'higher_educ_1.0', 'married_1.0']]\n",
    "exog2 = sm.add_constant(exog2)\n",
    "resultsOLS = IV2SLS(dep,exog2,None,None).fit(cov_type='unadjusted')\n",
    "resultsOLS.summary\n",
    "from collections import OrderedDict\n",
    "from linearmodels.iv.results import compare\n",
    "res1= OrderedDict()\n",
    "res1['OLS'] = resultsOLS\n",
    "res1['2SLS'] = ress\n",
    "compare(res1)\n",
    "ress.durbin()\n"
   ]
  },
  {
   "cell_type": "markdown",
   "id": "3406b9fa",
   "metadata": {},
   "source": [
    "Нулевая гипотеза данного теста состоит в том, что факторы модели являются экзогенными, однако, наш p-value = 0.00, что меньше, чем 0.01 или 0.05 (популярные уровни значимости), а значиит, мы отвергаем нулевую гипотезу, эндогенность наблюдается."
   ]
  }
 ],
 "metadata": {
  "kernelspec": {
   "display_name": "Python 3 (ipykernel)",
   "language": "python",
   "name": "python3"
  },
  "language_info": {
   "codemirror_mode": {
    "name": "ipython",
    "version": 3
   },
   "file_extension": ".py",
   "mimetype": "text/x-python",
   "name": "python",
   "nbconvert_exporter": "python",
   "pygments_lexer": "ipython3",
   "version": "3.9.7"
  }
 },
 "nbformat": 4,
 "nbformat_minor": 5
}
