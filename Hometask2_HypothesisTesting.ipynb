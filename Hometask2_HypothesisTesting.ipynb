{
 "cells": [
  {
   "cell_type": "markdown",
   "metadata": {
    "id": "NUv1XACHe7zK"
   },
   "source": [
    "# Домашнее задание №2.\n",
    "\n",
    "*Выполнила: Книс Надежда*"
   ]
  },
  {
   "cell_type": "markdown",
   "metadata": {},
   "source": [
    "## Связанные выборки"
   ]
  },
  {
   "cell_type": "markdown",
   "metadata": {
    "id": "tRwTUweFXO-F"
   },
   "source": [
    "### seattle\n",
    "В файле seattle.txt записаны цены на недвижимость в одном из районов Сиэтла в 2001 году и в 2002 году (объекты недвижимости выбирались случайно). Изменились ли в среднем цены в этом районе за год?\n"
   ]
  },
  {
   "cell_type": "code",
   "execution_count": 2,
   "metadata": {},
   "outputs": [],
   "source": [
    "import pandas as pd\n",
    "import numpy as np\n",
    "from scipy import stats\n",
    "import scipy.stats\n",
    "\n",
    "import matplotlib.pyplot as plt \n",
    "import seaborn as sns"
   ]
  },
  {
   "cell_type": "code",
   "execution_count": 3,
   "metadata": {
    "colab": {
     "base_uri": "https://localhost:8080/",
     "height": 202
    },
    "executionInfo": {
     "elapsed": 30,
     "status": "ok",
     "timestamp": 1636727359328,
     "user": {
      "displayName": "Ilya A",
      "photoUrl": "https://lh3.googleusercontent.com/a-/AOh14GiSa8oddSgsU03OOnvGn7Dk96PjoJwbTrHh_f7oDw=s64",
      "userId": "17148912465935982955"
     },
     "user_tz": -180
    },
    "id": "VOIIliUEeqkE",
    "outputId": "4385e026-a7d2-4191-ee81-1527b30106db"
   },
   "outputs": [
    {
     "data": {
      "text/html": [
       "<div>\n",
       "<style scoped>\n",
       "    .dataframe tbody tr th:only-of-type {\n",
       "        vertical-align: middle;\n",
       "    }\n",
       "\n",
       "    .dataframe tbody tr th {\n",
       "        vertical-align: top;\n",
       "    }\n",
       "\n",
       "    .dataframe thead th {\n",
       "        text-align: right;\n",
       "    }\n",
       "</style>\n",
       "<table border=\"1\" class=\"dataframe\">\n",
       "  <thead>\n",
       "    <tr style=\"text-align: right;\">\n",
       "      <th></th>\n",
       "      <th>Price</th>\n",
       "      <th>Year</th>\n",
       "    </tr>\n",
       "  </thead>\n",
       "  <tbody>\n",
       "    <tr>\n",
       "      <th>0</th>\n",
       "      <td>142.0</td>\n",
       "      <td>2002</td>\n",
       "    </tr>\n",
       "    <tr>\n",
       "      <th>1</th>\n",
       "      <td>232.0</td>\n",
       "      <td>2002</td>\n",
       "    </tr>\n",
       "    <tr>\n",
       "      <th>2</th>\n",
       "      <td>132.5</td>\n",
       "      <td>2002</td>\n",
       "    </tr>\n",
       "    <tr>\n",
       "      <th>3</th>\n",
       "      <td>200.0</td>\n",
       "      <td>2002</td>\n",
       "    </tr>\n",
       "    <tr>\n",
       "      <th>4</th>\n",
       "      <td>362.0</td>\n",
       "      <td>2002</td>\n",
       "    </tr>\n",
       "  </tbody>\n",
       "</table>\n",
       "</div>"
      ],
      "text/plain": [
       "   Price  Year\n",
       "0  142.0  2002\n",
       "1  232.0  2002\n",
       "2  132.5  2002\n",
       "3  200.0  2002\n",
       "4  362.0  2002"
      ]
     },
     "execution_count": 3,
     "metadata": {},
     "output_type": "execute_result"
    }
   ],
   "source": [
    "df = pd.read_csv('seattle.txt', sep='\\t')\n",
    "df.head()"
   ]
  },
  {
   "cell_type": "markdown",
   "metadata": {},
   "source": [
    "**(1 БАЛЛ)**. Визуализируем значения цен (переменной `Price`) за 2001 и 2002 годы. Постройте несколько графиков (boxplot, violinplot). Сделайте выводы о том, как меняется распределение цены в зависимости от года. Сделайте выводы касательно среднего и дисперсии. Предположите, глядя на графики, изменилась ли цена?"
   ]
  },
  {
   "cell_type": "code",
   "execution_count": 4,
   "metadata": {},
   "outputs": [
    {
     "data": {
      "image/png": "[encoded data removed]",
      "text/plain": [
       "<Figure size 1008x720 with 4 Axes>"
      ]
     },
     "metadata": {
      "needs_background": "light"
     },
     "output_type": "display_data"
    }
   ],
   "source": [
    "fig, ax = plt.subplots(2,2, figsize=(14,10))\n",
    "\n",
    "ax[0][0].boxplot(df[df['Year']==2001]['Price'])\n",
    "ax[0][0].set_title('Для 2001 года:')\n",
    "ax[1][0].violinplot(df[df['Year']==2001]['Price'])\n",
    "\n",
    "ax[0][1].boxplot(df[df['Year']==2002]['Price'])\n",
    "ax[0][1].set_title('Для 2002 года:')\n",
    "ax[1][1].violinplot(df[df['Year']==2002]['Price'])\n",
    "\n",
    "maxim = df['Price'].max()\n",
    "for ax in ax.ravel():\n",
    "    ax.set_ylim((0, maxim + 70))"
   ]
  },
  {
   "cell_type": "markdown",
   "metadata": {},
   "source": [
    "Медианы в обоих случаях почти равны, однако среднее значение и дисперсия будут гораздо больше в 2002 году, нежели в 2001, что может быть обусловлено сильными выбросами, поскольку именно дисперсия и среднее наиболее чувствительны к ним. То есть, средняя цена скорее всего не изменилась, если не учитывать воздействие выбросов. Посчитаем среднее и дисперсию для цен с помощью изученных методов в pandas:"
   ]
  },
  {
   "cell_type": "code",
   "execution_count": 5,
   "metadata": {},
   "outputs": [
    {
     "name": "stdout",
     "output_type": "stream",
     "text": [
      "Для 2001 года: среднее - 288.92654000000005, дисперсия - 24893.82058743715\n",
      "Для 2002 года: среднее - 329.25714, дисперсия - 100381.27755306165\n"
     ]
    }
   ],
   "source": [
    "df2001 = df[df['Year'] == 2001]\n",
    "df2002 = df[df['Year'] == 2002]\n",
    "print(f'Для 2001 года: среднее - {df2001[\"Price\"].mean()}, дисперсия - {df2001[\"Price\"].var()}')\n",
    "print(f'Для 2002 года: среднее - {df2002[\"Price\"].mean()}, дисперсия - {df2002[\"Price\"].var()}')"
   ]
  },
  {
   "cell_type": "markdown",
   "metadata": {},
   "source": [
    "В итоге, дисперсия значительно отличается по выборкам, и среднее значение в 2002 году тоже значительно выше, чем в 2001. Однако медиана в обеих выборках даже по графикам находится на уровне примерно 250-260, что говорит о значительном влиянии выбросов на показатели второй выборки, поэтому предположение, о том, что в среднем цены за год не изменились стоит проверить статистически. "
   ]
  },
  {
   "cell_type": "markdown",
   "metadata": {},
   "source": [
    "**(2 БАЛЛА)**. Сформулируйте нулевую и альтернативную гипотезу. Выберите $\\alpha$. Обоснуйте свой выбор касательно альтернативы (одно- или двусторонняя гипотеза). Выберите критерий, которым Вы будете проверять гипотезу, выпишите его формулу и распределение, которому этот критерий подчиняется при справедливости нулевой гипотезы. Обоснуйте свой выбор. Постарайтесь красиво записать гипотезы (посмотрите в оформление ячеек из тетрадки с семинара по гипотезам)"
   ]
  },
  {
   "cell_type": "markdown",
   "metadata": {},
   "source": [
    "Проверим гипотезу о равенстве средних цен на недвижимость в Сиэтле в 2001 и 2002 году. Возьмём $\\alpha = 0.05$.\n",
    "Сформулируем гипотезы:"
   ]
  },
  {
   "cell_type": "markdown",
   "metadata": {},
   "source": [
    "$$ H_0: \\{μ1 = μ2\\} $$\n",
    "$$ H_1: \\{μ1 \\neq μ2\\} $$\n"
   ]
  },
  {
   "cell_type": "markdown",
   "metadata": {},
   "source": [
    "Мною была выбрана двустороняя гипотеза, так как нужно понять, изменились ли в среднем цены за год, а ответом на этот вопрос может быть \"да\" или \"нет\", то если либо средние равны, либо не равны. "
   ]
  },
  {
   "cell_type": "markdown",
   "metadata": {},
   "source": [
    "Для проверки гипотезы используем t-тест, однако поскольку дисперсии не равны, нужно использовать t-тест Уэлча. Конечно, тест требует нормального распределения статистики, однако в нашем случае выборка имеет небольшой объем и отдалённо напоминает нормальное, поэтому принимаем как данность, что выборка распределена нормально.\n",
    "Формула для расчета t-теста:"
   ]
  },
  {
   "cell_type": "markdown",
   "metadata": {},
   "source": [
    "$$t={\\dfrac {{\\bar {X}}-{\\bar {Y}}}{\\sqrt {{\\dfrac {{\\hat {\\sigma }}_{x}^{2}}{n_{x}}}+{\\dfrac {{\\hat {\\sigma }}_{y}^{2}}{n_{y}}}}}}$$"
   ]
  },
  {
   "cell_type": "markdown",
   "metadata": {},
   "source": [
    "При справедливости нулевой гипотезы распределение будет приблизительно являться распределением Стьюдента."
   ]
  },
  {
   "cell_type": "markdown",
   "metadata": {},
   "source": [
    "**(2 БАЛЛА)** Реализуйте Ваш критерий и сам механизм проверки гипотезы вручную. Сделайте вывод об отвержении или не отвержении гипотезы. Сравните свои результаты со встроенным тестом из пакета scipy.stats (если он там есть)"
   ]
  },
  {
   "cell_type": "code",
   "execution_count": 7,
   "metadata": {},
   "outputs": [
    {
     "name": "stdout",
     "output_type": "stream",
     "text": [
      "Тестовая статистика - -0.8057258725189664\n",
      "Число степеней свободы - 71\n"
     ]
    }
   ],
   "source": [
    "s1 = df2001['Price']\n",
    "s2 = df2002['Price']\n",
    "\n",
    "mean1, mean2 = s1.mean(), s2.mean()\n",
    "std1, std2 = s1.std(), s2.std()\n",
    "\n",
    "n1, n2 = len(s1), len(s2)\n",
    "dff = (std1**2/n1 + std2**2/n2)**2 / ((std1**2/n1)**2/(n1-1) + (std2**2/n2)**2/(n2-1))\n",
    "t_stat = (mean1 - mean2) / np.sqrt(std1**2/n1 + std2**2/n2)\n",
    "\n",
    "print(f'Тестовая статистика - {t_stat}')\n",
    "print(f'Число степеней свободы - {int(dff)}')"
   ]
  },
  {
   "cell_type": "markdown",
   "metadata": {},
   "source": [
    "Для полученного числа степеней свободы, критическая область будет находиться левее  -1.66 и правее +1.66. Поскольку тестовая статистика не попадает в критическую область, нулевая гипотеза не отвергается. Проверим также гипотезу методами библиотеки scipy."
   ]
  },
  {
   "cell_type": "code",
   "execution_count": 8,
   "metadata": {},
   "outputs": [
    {
     "data": {
      "text/plain": [
       "Ttest_indResult(statistic=-0.8057258725189664, pvalue=0.42305786816462243)"
      ]
     },
     "execution_count": 8,
     "metadata": {},
     "output_type": "execute_result"
    }
   ],
   "source": [
    "scipy.stats.ttest_ind(s1, s2, equal_var=False)"
   ]
  },
  {
   "cell_type": "markdown",
   "metadata": {},
   "source": [
    "Тестовая статистика получилась точно такой же, как и была получена в результате ручного рассчета. значение p-value показывает, что вероятность совершения ошибки первого рода равно 0.42, это значит, что вероятность отвергнуть верную нулевую гипотезу равно 42%. Это больше, чем заданный уровень доверия $\\alpha = 0.05$, поэтому нулевая гипотеза вновь не отвергается. Исходя из проведённых тестом можно заключить, что *равенство средних цен на недвижимость в районе Сиэтла в 2001 и 2002 году возможно.*"
   ]
  },
  {
   "cell_type": "markdown",
   "metadata": {},
   "source": [
    "## Несвязанные выборки"
   ]
  },
  {
   "cell_type": "markdown",
   "metadata": {
    "id": "ew4ByKQOXjyD"
   },
   "source": [
    "### mtcars\n",
    "В файле mtcars.csv находятся данные из американского журнала Motor Trend 1974 года. Они описывают расход топлива в зависимости от 10 характеристик автомобиля (все автомобили 1973-1974 года). А именно, в данных вы найдете следующие столбцы:\n",
    "1. mpg — расход топлива (миль/галлон); \n",
    "2. cyl — количество цилиндров мотора;\n",
    "3. disp — объем мотор (куб. дюйм);\n",
    "4. hp — мощность мотора (в лошадиных силах);\n",
    "5. drat — передаточное число редуктора заднего моста;\n",
    "6. wt — вес (тысяч фунтов);\n",
    "7. qsec — время, за которое автомобиль проезжает 1/4 мили;\n",
    "8. vs — тип двигателя (0 = V-образный, 1 = рядный);\n",
    "9. am — тип коробки передач (0 = автоматическая, 1 = ручная);\n",
    "10. gear — количество передних передач; \n",
    "11. carb — количество карбюраторов.\n",
    "\n"
   ]
  },
  {
   "cell_type": "code",
   "execution_count": 9,
   "metadata": {},
   "outputs": [
    {
     "data": {
      "text/html": [
       "<div>\n",
       "<style scoped>\n",
       "    .dataframe tbody tr th:only-of-type {\n",
       "        vertical-align: middle;\n",
       "    }\n",
       "\n",
       "    .dataframe tbody tr th {\n",
       "        vertical-align: top;\n",
       "    }\n",
       "\n",
       "    .dataframe thead th {\n",
       "        text-align: right;\n",
       "    }\n",
       "</style>\n",
       "<table border=\"1\" class=\"dataframe\">\n",
       "  <thead>\n",
       "    <tr style=\"text-align: right;\">\n",
       "      <th></th>\n",
       "      <th>mpg</th>\n",
       "      <th>cyl</th>\n",
       "      <th>disp</th>\n",
       "      <th>hp</th>\n",
       "      <th>drat</th>\n",
       "      <th>wt</th>\n",
       "      <th>qsec</th>\n",
       "      <th>vs</th>\n",
       "      <th>am</th>\n",
       "      <th>gear</th>\n",
       "      <th>carb</th>\n",
       "    </tr>\n",
       "    <tr>\n",
       "      <th>manufacturer</th>\n",
       "      <th></th>\n",
       "      <th></th>\n",
       "      <th></th>\n",
       "      <th></th>\n",
       "      <th></th>\n",
       "      <th></th>\n",
       "      <th></th>\n",
       "      <th></th>\n",
       "      <th></th>\n",
       "      <th></th>\n",
       "      <th></th>\n",
       "    </tr>\n",
       "  </thead>\n",
       "  <tbody>\n",
       "    <tr>\n",
       "      <th>Mazda RX4</th>\n",
       "      <td>21.0</td>\n",
       "      <td>6</td>\n",
       "      <td>160.0</td>\n",
       "      <td>110</td>\n",
       "      <td>3.90</td>\n",
       "      <td>2.620</td>\n",
       "      <td>16.46</td>\n",
       "      <td>0</td>\n",
       "      <td>1</td>\n",
       "      <td>4</td>\n",
       "      <td>4</td>\n",
       "    </tr>\n",
       "    <tr>\n",
       "      <th>Mazda RX4 Wag</th>\n",
       "      <td>21.0</td>\n",
       "      <td>6</td>\n",
       "      <td>160.0</td>\n",
       "      <td>110</td>\n",
       "      <td>3.90</td>\n",
       "      <td>2.875</td>\n",
       "      <td>17.02</td>\n",
       "      <td>0</td>\n",
       "      <td>1</td>\n",
       "      <td>4</td>\n",
       "      <td>4</td>\n",
       "    </tr>\n",
       "    <tr>\n",
       "      <th>Datsun 710</th>\n",
       "      <td>22.8</td>\n",
       "      <td>4</td>\n",
       "      <td>108.0</td>\n",
       "      <td>93</td>\n",
       "      <td>3.85</td>\n",
       "      <td>2.320</td>\n",
       "      <td>18.61</td>\n",
       "      <td>1</td>\n",
       "      <td>1</td>\n",
       "      <td>4</td>\n",
       "      <td>1</td>\n",
       "    </tr>\n",
       "    <tr>\n",
       "      <th>Hornet 4 Drive</th>\n",
       "      <td>21.4</td>\n",
       "      <td>6</td>\n",
       "      <td>258.0</td>\n",
       "      <td>110</td>\n",
       "      <td>3.08</td>\n",
       "      <td>3.215</td>\n",
       "      <td>19.44</td>\n",
       "      <td>1</td>\n",
       "      <td>0</td>\n",
       "      <td>3</td>\n",
       "      <td>1</td>\n",
       "    </tr>\n",
       "    <tr>\n",
       "      <th>Hornet Sportabout</th>\n",
       "      <td>18.7</td>\n",
       "      <td>8</td>\n",
       "      <td>360.0</td>\n",
       "      <td>175</td>\n",
       "      <td>3.15</td>\n",
       "      <td>3.440</td>\n",
       "      <td>17.02</td>\n",
       "      <td>0</td>\n",
       "      <td>0</td>\n",
       "      <td>3</td>\n",
       "      <td>2</td>\n",
       "    </tr>\n",
       "  </tbody>\n",
       "</table>\n",
       "</div>"
      ],
      "text/plain": [
       "                    mpg  cyl   disp   hp  drat     wt   qsec  vs  am  gear  \\\n",
       "manufacturer                                                                 \n",
       "Mazda RX4          21.0    6  160.0  110  3.90  2.620  16.46   0   1     4   \n",
       "Mazda RX4 Wag      21.0    6  160.0  110  3.90  2.875  17.02   0   1     4   \n",
       "Datsun 710         22.8    4  108.0   93  3.85  2.320  18.61   1   1     4   \n",
       "Hornet 4 Drive     21.4    6  258.0  110  3.08  3.215  19.44   1   0     3   \n",
       "Hornet Sportabout  18.7    8  360.0  175  3.15  3.440  17.02   0   0     3   \n",
       "\n",
       "                   carb  \n",
       "manufacturer             \n",
       "Mazda RX4             4  \n",
       "Mazda RX4 Wag         4  \n",
       "Datsun 710            1  \n",
       "Hornet 4 Drive        1  \n",
       "Hornet Sportabout     2  "
      ]
     },
     "execution_count": 9,
     "metadata": {},
     "output_type": "execute_result"
    }
   ],
   "source": [
    "dfn = pd.read_csv('mtcars.csv', index_col=0)\n",
    "dfn.head()"
   ]
  },
  {
   "cell_type": "code",
   "execution_count": 10,
   "metadata": {},
   "outputs": [
    {
     "data": {
      "text/html": [
       "<div>\n",
       "<style scoped>\n",
       "    .dataframe tbody tr th:only-of-type {\n",
       "        vertical-align: middle;\n",
       "    }\n",
       "\n",
       "    .dataframe tbody tr th {\n",
       "        vertical-align: top;\n",
       "    }\n",
       "\n",
       "    .dataframe thead th {\n",
       "        text-align: right;\n",
       "    }\n",
       "</style>\n",
       "<table border=\"1\" class=\"dataframe\">\n",
       "  <thead>\n",
       "    <tr style=\"text-align: right;\">\n",
       "      <th></th>\n",
       "      <th>mpg</th>\n",
       "      <th>cyl</th>\n",
       "      <th>disp</th>\n",
       "      <th>hp</th>\n",
       "      <th>drat</th>\n",
       "      <th>wt</th>\n",
       "      <th>qsec</th>\n",
       "      <th>vs</th>\n",
       "      <th>am</th>\n",
       "      <th>gear</th>\n",
       "      <th>carb</th>\n",
       "    </tr>\n",
       "  </thead>\n",
       "  <tbody>\n",
       "    <tr>\n",
       "      <th>count</th>\n",
       "      <td>32.000000</td>\n",
       "      <td>32.000000</td>\n",
       "      <td>32.000000</td>\n",
       "      <td>32.000000</td>\n",
       "      <td>32.000000</td>\n",
       "      <td>32.000000</td>\n",
       "      <td>32.000000</td>\n",
       "      <td>32.000000</td>\n",
       "      <td>32.000000</td>\n",
       "      <td>32.000000</td>\n",
       "      <td>32.0000</td>\n",
       "    </tr>\n",
       "    <tr>\n",
       "      <th>mean</th>\n",
       "      <td>20.090625</td>\n",
       "      <td>6.187500</td>\n",
       "      <td>230.721875</td>\n",
       "      <td>146.687500</td>\n",
       "      <td>3.596563</td>\n",
       "      <td>3.217250</td>\n",
       "      <td>17.848750</td>\n",
       "      <td>0.437500</td>\n",
       "      <td>0.406250</td>\n",
       "      <td>3.687500</td>\n",
       "      <td>2.8125</td>\n",
       "    </tr>\n",
       "    <tr>\n",
       "      <th>std</th>\n",
       "      <td>6.026948</td>\n",
       "      <td>1.785922</td>\n",
       "      <td>123.938694</td>\n",
       "      <td>68.562868</td>\n",
       "      <td>0.534679</td>\n",
       "      <td>0.978457</td>\n",
       "      <td>1.786943</td>\n",
       "      <td>0.504016</td>\n",
       "      <td>0.498991</td>\n",
       "      <td>0.737804</td>\n",
       "      <td>1.6152</td>\n",
       "    </tr>\n",
       "    <tr>\n",
       "      <th>min</th>\n",
       "      <td>10.400000</td>\n",
       "      <td>4.000000</td>\n",
       "      <td>71.100000</td>\n",
       "      <td>52.000000</td>\n",
       "      <td>2.760000</td>\n",
       "      <td>1.513000</td>\n",
       "      <td>14.500000</td>\n",
       "      <td>0.000000</td>\n",
       "      <td>0.000000</td>\n",
       "      <td>3.000000</td>\n",
       "      <td>1.0000</td>\n",
       "    </tr>\n",
       "    <tr>\n",
       "      <th>25%</th>\n",
       "      <td>15.425000</td>\n",
       "      <td>4.000000</td>\n",
       "      <td>120.825000</td>\n",
       "      <td>96.500000</td>\n",
       "      <td>3.080000</td>\n",
       "      <td>2.581250</td>\n",
       "      <td>16.892500</td>\n",
       "      <td>0.000000</td>\n",
       "      <td>0.000000</td>\n",
       "      <td>3.000000</td>\n",
       "      <td>2.0000</td>\n",
       "    </tr>\n",
       "    <tr>\n",
       "      <th>50%</th>\n",
       "      <td>19.200000</td>\n",
       "      <td>6.000000</td>\n",
       "      <td>196.300000</td>\n",
       "      <td>123.000000</td>\n",
       "      <td>3.695000</td>\n",
       "      <td>3.325000</td>\n",
       "      <td>17.710000</td>\n",
       "      <td>0.000000</td>\n",
       "      <td>0.000000</td>\n",
       "      <td>4.000000</td>\n",
       "      <td>2.0000</td>\n",
       "    </tr>\n",
       "    <tr>\n",
       "      <th>75%</th>\n",
       "      <td>22.800000</td>\n",
       "      <td>8.000000</td>\n",
       "      <td>326.000000</td>\n",
       "      <td>180.000000</td>\n",
       "      <td>3.920000</td>\n",
       "      <td>3.610000</td>\n",
       "      <td>18.900000</td>\n",
       "      <td>1.000000</td>\n",
       "      <td>1.000000</td>\n",
       "      <td>4.000000</td>\n",
       "      <td>4.0000</td>\n",
       "    </tr>\n",
       "    <tr>\n",
       "      <th>max</th>\n",
       "      <td>33.900000</td>\n",
       "      <td>8.000000</td>\n",
       "      <td>472.000000</td>\n",
       "      <td>335.000000</td>\n",
       "      <td>4.930000</td>\n",
       "      <td>5.424000</td>\n",
       "      <td>22.900000</td>\n",
       "      <td>1.000000</td>\n",
       "      <td>1.000000</td>\n",
       "      <td>5.000000</td>\n",
       "      <td>8.0000</td>\n",
       "    </tr>\n",
       "  </tbody>\n",
       "</table>\n",
       "</div>"
      ],
      "text/plain": [
       "             mpg        cyl        disp          hp       drat         wt  \\\n",
       "count  32.000000  32.000000   32.000000   32.000000  32.000000  32.000000   \n",
       "mean   20.090625   6.187500  230.721875  146.687500   3.596563   3.217250   \n",
       "std     6.026948   1.785922  123.938694   68.562868   0.534679   0.978457   \n",
       "min    10.400000   4.000000   71.100000   52.000000   2.760000   1.513000   \n",
       "25%    15.425000   4.000000  120.825000   96.500000   3.080000   2.581250   \n",
       "50%    19.200000   6.000000  196.300000  123.000000   3.695000   3.325000   \n",
       "75%    22.800000   8.000000  326.000000  180.000000   3.920000   3.610000   \n",
       "max    33.900000   8.000000  472.000000  335.000000   4.930000   5.424000   \n",
       "\n",
       "            qsec         vs         am       gear     carb  \n",
       "count  32.000000  32.000000  32.000000  32.000000  32.0000  \n",
       "mean   17.848750   0.437500   0.406250   3.687500   2.8125  \n",
       "std     1.786943   0.504016   0.498991   0.737804   1.6152  \n",
       "min    14.500000   0.000000   0.000000   3.000000   1.0000  \n",
       "25%    16.892500   0.000000   0.000000   3.000000   2.0000  \n",
       "50%    17.710000   0.000000   0.000000   4.000000   2.0000  \n",
       "75%    18.900000   1.000000   1.000000   4.000000   4.0000  \n",
       "max    22.900000   1.000000   1.000000   5.000000   8.0000  "
      ]
     },
     "execution_count": 10,
     "metadata": {},
     "output_type": "execute_result"
    }
   ],
   "source": [
    "dfn.describe()"
   ]
  },
  {
   "cell_type": "markdown",
   "metadata": {},
   "source": [
    "Мы хотим ответить на следующие вопросы:\n",
    "\n",
    "- Влияет ли тип двигателя на расход топлива? \n",
    "- Влияет ли объем мотора на расход топлива? \n",
    "\n"
   ]
  },
  {
   "cell_type": "markdown",
   "metadata": {},
   "source": [
    "**(1 БАЛЛ)**. Постройти графики для каждого вопроса. Для первого вопроса можете вновь использовать violinplot, но можете подобрать и другой график. Подумайте, какой график подходит для второго вопроса и нарисуйте его. Попробуйте сделать выводы на основе этих графиков (как распределены признаки, их средние и дисперсии)."
   ]
  },
  {
   "cell_type": "code",
   "execution_count": 26,
   "metadata": {},
   "outputs": [
    {
     "data": {
      "text/plain": [
       "Text(0.5, 1.0, 'Fuel consumption by value of the engine')"
      ]
     },
     "execution_count": 26,
     "metadata": {},
     "output_type": "execute_result"
    },
    {
     "data": {
      "image/png": "[encoded data removed]",
      "text/plain": [
       "<Figure size 864x432 with 2 Axes>"
      ]
     },
     "metadata": {
      "needs_background": "light"
     },
     "output_type": "display_data"
    }
   ],
   "source": [
    "fig, ax = plt.subplots(1, 2, figsize=(12, 6))\n",
    "\n",
    "ax[0].violinplot([dfn[dfn['vs']==0]['mpg'], dfn[dfn['vs']==1]['mpg']])\n",
    "ax[1].scatter(dfn['disp'], dfn['mpg'])\n",
    "\n",
    "ax[0].set_xlabel('Type of engine')\n",
    "ax[0].set_ylabel('Miles per gallon')\n",
    "ax[0].set_title('Fuel consumption by engine type')\n",
    "\n",
    "ax[1].set_xlabel('Volume of the engine')\n",
    "ax[1].set_ylabel('Miles per gallon')\n",
    "ax[1].set_title('Fuel consumption by value of the engine')"
   ]
  },
  {
   "cell_type": "markdown",
   "metadata": {},
   "source": [
    "Для визуализации ответа на второй вопрос была выбрана диаграмма рассеяния, так как она способна отразить взаимозависимость двух переменных в виде корреляционного поля. "
   ]
  },
  {
   "cell_type": "markdown",
   "metadata": {},
   "source": [
    "1. Исходя из графика, полученного для зависимости расхода топлива от типа двигателя, можно предположить, что у рядного двигателя в среднем получается миль на один галлон, чем у v-образного двигателя. Дисперсии выглядят схожими, а распределение отдалённо похоже на нормальное, однако не позволяет определить фактический тип распределения из-за малого объёма выборки, аналогично примеру из первого задания.\n",
    "2. На графике можно заметить обратную линейную или экпоненциальную зависимость расхода топлива от объёма мотора. "
   ]
  },
  {
   "cell_type": "code",
   "execution_count": 16,
   "metadata": {},
   "outputs": [
    {
     "name": "stdout",
     "output_type": "stream",
     "text": [
      "Для V-образного двигателя: среднее - 16.616666666666664, дисперсия - 14.904999999999996\n",
      "Для рядного двигателя: среднее - 24.557142857142857, дисперсия - 28.933406593406588\n",
      "Отношение дисперсий: 1.941187963328185\n"
     ]
    }
   ],
   "source": [
    "dfn1 = dfn[dfn['vs'] == 0][['mpg', 'vs']]\n",
    "dfn2 = dfn[dfn['vs'] == 1][['mpg', 'vs']]\n",
    "print(f'Для V-образного двигателя: среднее - {dfn1[\"mpg\"].mean()}, дисперсия - {dfn1[\"mpg\"].var()}')\n",
    "print(f'Для рядного двигателя: среднее - {dfn2[\"mpg\"].mean()}, дисперсия - {dfn2[\"mpg\"].var()}')\n",
    "print(f'Отношение дисперсий: {dfn2[\"mpg\"].var() / dfn1[\"mpg\"].var()}')"
   ]
  },
  {
   "cell_type": "markdown",
   "metadata": {},
   "source": [
    "**(2 БАЛЛА)**. Реализуйте решение для первого вопроса. Подумайте как можно измерить влияние типа двигателя на расход топлива. Предложите алгоритм и опишите механизм проверки гипотезы в данном задании. Какие должны быть гипотезы? Выберите $\\alpha$. Реализуйте этот алгоритм (статистику и распределение) и вручную проверьте Ваши гипотезы, сделайте вывод. Сверьте Ваш результат со встроенной функцией из модуля scipy.stats (если она есть). Постарайтесь записать гипотезы красиво)"
   ]
  },
  {
   "cell_type": "markdown",
   "metadata": {},
   "source": [
    "Проведем тест Хи-квадрат независимости выборок, чтобы понять, есть ли зависимость между двумя показателями. Гипотезы:\n",
    "\n",
    "$H_0:$ В генеральной совокупности не существует зависимости между типом двигателя и расходом топлива.\n",
    "\n",
    "$H_1:$ В генеральной совокупности существует зависимости между типом двигателя и расходом топлива.\n",
    "\n",
    "Формула для расчёта: $$\\chi^2 = \\sum{\\frac{(f_o - f_e)^2}{f_e}}$$\n",
    "где $f_e = \\frac{f_cf_r}{n}$, а $f_c$  — наблюдаемые частоты в ряду и $f_r$ — наблюдаемые частоты в колонке. Одднако чтобы составить таблицу сопряженности для необходимо ввести категориальную переменную для объёма расхода топлива. 0 - mpg меньше медианного значения, 1 - больше"
   ]
  },
  {
   "cell_type": "code",
   "execution_count": 19,
   "metadata": {},
   "outputs": [
    {
     "data": {
      "text/plain": [
       "True"
      ]
     },
     "execution_count": 19,
     "metadata": {},
     "output_type": "execute_result"
    }
   ],
   "source": [
    "dfn['cat'] = dfn['mpg'].apply(lambda x: 0 if x < dfn['mpg'].median() else 1)\n",
    "cto = dfn.groupby('vs')['cat'].value_counts().unstack()\n",
    "dof = (2-1)*(2-1) # (Rows - 1)(Cols - 1)\n",
    "critical_value = 6.63\n",
    "\n",
    "n_total = cto.sum().sum()\n",
    "n_cat0 = cto[0].sum()\n",
    "n_cat1 = cto[1].sum()\n",
    "\n",
    "p_cat0 = n_cat0/n_total\n",
    "p_cat1 = n_cat1/n_total\n",
    "\n",
    "n_v = cto.iloc[0].sum()\n",
    "n_r = cto.iloc[1].sum()\n",
    "\n",
    "f_e_cat0_v = n_v*p_cat0 \n",
    "f_e_cat1_v = n_v*p_cat1\n",
    "\n",
    "f_e_cat0_r = n_r*p_cat0\n",
    "f_e_cat1_r = n_r*p_cat1\n",
    "\n",
    "ct_e = np.array([[f_e_cat0_v, f_e_cat1_v], \n",
    "                 [f_e_cat0_r, f_e_cat1_r]])\n",
    "\n",
    "chi_square = ((cto - ct_e)**2/ct_e).sum().sum()\n",
    "chi_square > critical_value"
   ]
  },
  {
   "cell_type": "code",
   "execution_count": 20,
   "metadata": {},
   "outputs": [
    {
     "data": {
      "text/plain": [
       "10.614877061935886"
      ]
     },
     "execution_count": 20,
     "metadata": {},
     "output_type": "execute_result"
    }
   ],
   "source": [
    "chi_square"
   ]
  },
  {
   "cell_type": "markdown",
   "metadata": {},
   "source": [
    "Посчитанная статистика оказалась в критической области, а это значит, что мы отвергаем $H_0$. В генеральной совокупности зависимость между типом двигателя и расходом топлива существует. Проверим гипотезу также автоматически."
   ]
  },
  {
   "cell_type": "code",
   "execution_count": 21,
   "metadata": {},
   "outputs": [
    {
     "data": {
      "text/plain": [
       "(10.614877061935886,\n",
       " 0.0011218141180228563,\n",
       " 1,\n",
       " array([[8.4375, 9.5625],\n",
       "        [6.5625, 7.4375]]))"
      ]
     },
     "execution_count": 21,
     "metadata": {},
     "output_type": "execute_result"
    }
   ],
   "source": [
    "scipy.stats.chi2_contingency(cto, correction=False)"
   ]
  },
  {
   "cell_type": "markdown",
   "metadata": {},
   "source": [
    "p-value оказался ниже заданного уровня значимости 5%, что значит, что в данном случае мы также отвергаем нулевую гипотезу, зависимость существует."
   ]
  },
  {
   "cell_type": "markdown",
   "metadata": {},
   "source": [
    "**(2 БАЛЛА)**. Реализуйте решение для второго вопроса. Подумайте как можно измерить влияние объема мотора на расход топлива. Предложите алгоритм и опишите механизм проверки гипотезы в данном задании. Какие должны быть гипотезы? Выберите $\\alpha$. Реализуйте этот алгоритм (статистику и распределение) и вручную проверьте Ваши гипотезы, сделайте вывод. Сверьте Ваш результат со встроенной функцией из модуля scipy.stats (если она есть). Постарайтесь записать гипотезы красиво)"
   ]
  },
  {
   "cell_type": "markdown",
   "metadata": {},
   "source": [
    "В данном случае лучше всего будет оценить коэффициент корреляции для двух переменных, а после оценить значимость полученной переменной. Корреляция рассчитывается по формуле: \n",
    "$${r} _{XY}={\\frac {\\sum (X-{\\bar {X}})(Y-{\\bar {Y}})}{\\sqrt {\\sum (X-{\\bar {X}})^{2}\\sum (Y-{\\bar {Y}})^{2}}}}$$"
   ]
  },
  {
   "cell_type": "code",
   "execution_count": 22,
   "metadata": {},
   "outputs": [
    {
     "data": {
      "text/plain": [
       "-0.8475513792624786"
      ]
     },
     "execution_count": 22,
     "metadata": {},
     "output_type": "execute_result"
    }
   ],
   "source": [
    "x = dfn['mpg'] - dfn['mpg'].mean()\n",
    "y = dfn['disp'] - dfn['disp'].mean()\n",
    "corr = (x*y).sum()/np.sqrt(((x**2).sum())*((y**2).sum()))\n",
    "corr"
   ]
  },
  {
   "cell_type": "markdown",
   "metadata": {},
   "source": [
    "Исходя из проведённых расчётов мы получили сильную отрицательную зависимость расхода топлива от объёма топлива. Также проверим коэффициент с помощью методов python "
   ]
  },
  {
   "cell_type": "code",
   "execution_count": 23,
   "metadata": {},
   "outputs": [
    {
     "data": {
      "text/html": [
       "<div>\n",
       "<style scoped>\n",
       "    .dataframe tbody tr th:only-of-type {\n",
       "        vertical-align: middle;\n",
       "    }\n",
       "\n",
       "    .dataframe tbody tr th {\n",
       "        vertical-align: top;\n",
       "    }\n",
       "\n",
       "    .dataframe thead th {\n",
       "        text-align: right;\n",
       "    }\n",
       "</style>\n",
       "<table border=\"1\" class=\"dataframe\">\n",
       "  <thead>\n",
       "    <tr style=\"text-align: right;\">\n",
       "      <th></th>\n",
       "      <th>mpg</th>\n",
       "      <th>disp</th>\n",
       "    </tr>\n",
       "  </thead>\n",
       "  <tbody>\n",
       "    <tr>\n",
       "      <th>mpg</th>\n",
       "      <td>1.000000</td>\n",
       "      <td>-0.847551</td>\n",
       "    </tr>\n",
       "    <tr>\n",
       "      <th>disp</th>\n",
       "      <td>-0.847551</td>\n",
       "      <td>1.000000</td>\n",
       "    </tr>\n",
       "  </tbody>\n",
       "</table>\n",
       "</div>"
      ],
      "text/plain": [
       "           mpg      disp\n",
       "mpg   1.000000 -0.847551\n",
       "disp -0.847551  1.000000"
      ]
     },
     "execution_count": 23,
     "metadata": {},
     "output_type": "execute_result"
    }
   ],
   "source": [
    "dfn[['mpg', 'disp']].corr()"
   ]
  },
  {
   "cell_type": "markdown",
   "metadata": {},
   "source": [
    "Получили аналогичный результат. Теперь протестируем гипотезы о значимости полученного коэффициента\n",
    "\n",
    "$Н_0$: различие между выборочным коэффициентом корреляции r и ρ = 0 незначимо,\n",
    "\n",
    "$Н_1$: различие между r и p=0 значимо, и следовательно, между переменными у и х имеется существенная связь. Из альтернативной гипотезы следует, что нужно воспользоваться двусторонней критической областью. Проверка осуществляется с помощью теста Стьюдента:\n",
    "$$t={\\frac {r{\\sqrt {n-2}}}{\\sqrt {1-r^{2}}}}$$\n",
    "где n - число степеней свободы, объём выборки. Условие $\\alpha = 0.05$ сохраняется. Объём выборки - 32, соответственно число степеней свободы - 30. Критическая область для распределения Стьюдента для 30 степеней свободы и зананного уровня значимости - $t_{кр} = (-{\\infty}; -2.04] \\bigcup [2.04; {\\infty})$ Рассчитаем тестовую статистику."
   ]
  },
  {
   "cell_type": "code",
   "execution_count": 24,
   "metadata": {},
   "outputs": [
    {
     "data": {
      "text/plain": [
       "-8.747151534093915"
      ]
     },
     "execution_count": 24,
     "metadata": {},
     "output_type": "execute_result"
    }
   ],
   "source": [
    "corr*np.sqrt(len(dfn['mpg']) - 2)/np.sqrt(1-corr**2)"
   ]
  },
  {
   "cell_type": "markdown",
   "metadata": {},
   "source": [
    "Тестовая статистика попала в критическую область, значит, мы отвергаем нулевую гипотезу, и корреляция значима."
   ]
  },
  {
   "cell_type": "code",
   "execution_count": null,
   "metadata": {},
   "outputs": [],
   "source": []
  }
 ],
 "metadata": {
  "colab": {
   "authorship_tag": "ABX9TyNqAuiEKvuTMUpriDNeGrfR",
   "collapsed_sections": [],
   "name": "5_task2.ipynb",
   "provenance": [],
   "toc_visible": true
  },
  "gist": {
   "data": {
    "description": "Google Drive/My Drive/main/teaching/22-1_stat-dpo-da-4/Материалы/ДЗ/hw2_hypothesis-testing_solved.ipynb",
    "public": false
   },
   "id": ""
  },
  "kernelspec": {
   "display_name": "Python 3 (ipykernel)",
   "language": "python",
   "name": "python3"
  },
  "language_info": {
   "codemirror_mode": {
    "name": "ipython",
    "version": 3
   },
   "file_extension": ".py",
   "mimetype": "text/x-python",
   "name": "python",
   "nbconvert_exporter": "python",
   "pygments_lexer": "ipython3",
   "version": "3.9.7"
  },
  "toc": {
   "base_numbering": 1,
   "nav_menu": {},
   "number_sections": true,
   "sideBar": true,
   "skip_h1_title": true,
   "title_cell": "Table of Contents",
   "title_sidebar": "Contents",
   "toc_cell": true,
   "toc_position": {},
   "toc_section_display": true,
   "toc_window_display": true
  },
  "vscode": {
   "interpreter": {
    "hash": "26de051ba29f2982a8de78e945f0abaf191376122a1563185a90213a26c5da77"
   }
  }
 },
 "nbformat": 4,
 "nbformat_minor": 1
}
